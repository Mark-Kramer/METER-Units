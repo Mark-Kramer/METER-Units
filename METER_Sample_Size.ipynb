{
 "cells": [
  {
   "cell_type": "markdown",
   "id": "183f8782-7b20-4c50-9b24-330b84c51dee",
   "metadata": {},
   "source": [
    "# Sample Size - How much data is enough for your experiment?"
   ]
  },
  {
   "cell_type": "markdown",
   "id": "4c27513a-502c-42e2-8a0a-a079e474ba3e",
   "metadata": {
    "jp-MarkdownHeadingCollapsed": true
   },
   "source": [
    "## 0 - Setup"
   ]
  },
  {
   "cell_type": "code",
   "execution_count": null,
   "id": "8ae7402f-3399-4340-a306-0c557f42893d",
   "metadata": {},
   "outputs": [],
   "source": [
    "# Load modules\n",
    "import numpy as np\n",
    "import matplotlib.pyplot as plt\n",
    "from scipy.stats import pearsonr\n",
    "import statsmodels.api as sm\n",
    "# Load custom functions\n",
    "from sample_size_functions import *"
   ]
  },
  {
   "cell_type": "markdown",
   "id": "d6ff77b0-4c41-477a-be4f-dd5de75d4ff9",
   "metadata": {
    "jp-MarkdownHeadingCollapsed": true
   },
   "source": [
    "## 1 - Just Google it?"
   ]
  },
  {
   "cell_type": "markdown",
   "id": "8cf43eb9-a571-4a0b-aef3-be10c159c701",
   "metadata": {},
   "source": [
    "- You are studying a proposed genetic biomarker for longevity, substance $x$.\n",
    "- People have a normal distribution of expression of substance $x$.\n",
    "- Your hypothesis is that individuals at the high end of expression levels tend to live about 5 years longer than people at the low end."
   ]
  },
  {
   "cell_type": "markdown",
   "id": "ef0283a4-123c-4bad-b885-125ae0d16d0c",
   "metadata": {},
   "source": [
    "<div class=\"alert alert-block alert-success\">\n",
    "\n",
    "**Q:** Given this description, sketch a plot of lifespan versus $x$.\n",
    "- What types of values do you expect for each variable?\n",
    "- How are the variables related?\n",
    "\n",
    "**A:**\n",
    "\n",
    "</div>"
   ]
  },
  {
   "cell_type": "markdown",
   "id": "68ee699d-af9b-4f86-aea2-a2b366679dac",
   "metadata": {},
   "source": [
    "<div class=\"alert alert-block alert-success\">\n",
    "\n",
    "**Q:** How many individuals do you need to observe to have a reasonable chance of demonstrating this hypothesis is correct? (I.e., What is the **sample size**?)\n",
    "\n",
    "**A:**\n",
    "\n",
    "</div>"
   ]
  },
  {
   "cell_type": "markdown",
   "id": "3a9712a9-ae79-4450-9f59-68966a7e2fad",
   "metadata": {
    "jp-MarkdownHeadingCollapsed": true
   },
   "source": [
    "## 2- Underpowered experiments are doomed to failure."
   ]
  },
  {
   "cell_type": "markdown",
   "id": "6c0bb810-3a0e-4927-afe6-2439f483de9e",
   "metadata": {},
   "source": [
    "Now that you've deteremined the sample size `N` for your experiment, let's do it.\n",
    "\n",
    "For the `N` samples of data, you receive from each individual:\n",
    "\n",
    "* `x` - a measure of the proposed biomarker for longevitiy\n",
    "\n",
    "* `lifespan` - the geographic location (latitude and longitude) of the community,\n"
   ]
  },
  {
   "cell_type": "code",
   "execution_count": null,
   "id": "99e47f6b-8302-4529-bc03-a8ffb9898eff",
   "metadata": {},
   "outputs": [],
   "source": [
    "N = 100\n",
    "x,lifespan = load_data(N)"
   ]
  },
  {
   "cell_type": "markdown",
   "id": "a5a0628f-693e-43b4-ae58-32acd1b18624",
   "metadata": {},
   "source": [
    "Let's start by plotting the data."
   ]
  },
  {
   "cell_type": "code",
   "execution_count": null,
   "id": "1fbee484-9a1a-4c45-8ab0-9d8850b8ce09",
   "metadata": {},
   "outputs": [],
   "source": [
    "plt.scatter(x,lifespan)\n",
    "plt.xlabel('Genetic biomarker x')\n",
    "plt.ylabel('Lifespan (years)');"
   ]
  },
  {
   "cell_type": "markdown",
   "id": "9855a6b9-dc64-415c-855e-96209ee2bbb5",
   "metadata": {},
   "source": [
    "<div class=\"alert alert-block alert-success\">\n",
    "\n",
    "**Q:** What do you observe?\n",
    "\n",
    "**A:**\n",
    "\n",
    "</div>"
   ]
  },
  {
   "cell_type": "markdown",
   "id": "ab1e61e0-832d-4dd3-b169-76721af901f8",
   "metadata": {},
   "source": [
    "To assess the relationship between the biomarker `x` and `lifespan`, let's fit a line to the data and compute the slope."
   ]
  },
  {
   "cell_type": "code",
   "execution_count": null,
   "id": "820dd5bd-b6d2-4d9e-bbb1-e11f8a1dcc8b",
   "metadata": {},
   "outputs": [],
   "source": [
    "# Estimate a line from the data.\n",
    "\n",
    "from statsmodels.formula.api import ols\n",
    "\n",
    "dat                = {\"x\": x, \"lifespan\": lifespan}\n",
    "regression_results = ols(\"lifespan ~ 1 + x\", data=dat).fit()"
   ]
  },
  {
   "cell_type": "markdown",
   "id": "0c22000f-d414-4617-ba28-da3fa045353a",
   "metadata": {},
   "source": [
    "<div class=\"alert alert-block alert-success\">\n",
    "\n",
    "**Q:** Can you see the equation for the line in the code above?\n",
    "\n",
    "**A:**\n",
    "    \n",
    "</div>"
   ]
  },
  {
   "cell_type": "markdown",
   "id": "1f09478d-a504-4492-8189-73f8e1f56218",
   "metadata": {},
   "source": [
    "Now, with the line estimated, let's print the estimated slope and its p-value."
   ]
  },
  {
   "cell_type": "code",
   "execution_count": null,
   "id": "0d2d9850-b0a3-40e4-ac13-1ed19ca7f0c8",
   "metadata": {},
   "outputs": [],
   "source": [
    "print('Slope estimate =',regression_results.params[1])\n",
    "print('p-value        =',regression_results.pvalues[1])"
   ]
  },
  {
   "cell_type": "markdown",
   "id": "2909e622-5e33-46b7-960a-a179742fc1dd",
   "metadata": {},
   "source": [
    "Let's also **visualize** the estimated line by plotting it with the data."
   ]
  },
  {
   "cell_type": "code",
   "execution_count": null,
   "id": "aa632f47-a947-43fb-835a-de8f055e2ab8",
   "metadata": {},
   "outputs": [],
   "source": [
    "pred   = regression_results.get_prediction().summary_frame()\n",
    "mn     = pred['mean']\n",
    "ci_low = pred['mean_ci_lower'] \n",
    "ci_upp = pred['mean_ci_upper']\n",
    "\n",
    "# And plot it.\n",
    "indices_sorted = np.argsort(x,0)\n",
    "plt.scatter(x,lifespan)\n",
    "plt.plot(x[indices_sorted[:,0]],mn[indices_sorted[:,0]], 'r')\n",
    "plt.plot(x[indices_sorted[:,0]],ci_low[indices_sorted[:,0]], ':r')\n",
    "plt.plot(x[indices_sorted[:,0]],ci_upp[indices_sorted[:,0]], ':r')\n",
    "plt.xlabel('Genetic biomarker x')\n",
    "plt.ylabel('Lifespan (years)');"
   ]
  },
  {
   "cell_type": "markdown",
   "id": "454310ca-3aee-4aff-9b5d-50937f094df3",
   "metadata": {},
   "source": [
    "<div class=\"alert alert-block alert-success\">\n",
    "\n",
    "**Q:** Do you find a significant relationship between the genertic biomarker `x` and `lifespan`?\n",
    "\n",
    "**A:**\n",
    "\n",
    "</div>"
   ]
  },
  {
   "cell_type": "markdown",
   "id": "80d929d6-99ab-4e69-8fdb-6a5b011d23e1",
   "metadata": {},
   "source": [
    "<div class=\"alert alert-block alert-danger\">\n",
    "Something has gone wrong ...\n",
    "\n",
    "</p>\n",
    "\n",
    "- We've applied a standard approach to compute sample size and performed the experiment using this sample size.\n",
    "\n",
    "- We see a trend supporting the hypothesized relationship, but it's not significant.\n",
    "\n",
    "What's going on?\n",
    "</div>"
   ]
  },
  {
   "cell_type": "markdown",
   "id": "6ccac4e8-fb87-4def-ba04-e6532e450a2f",
   "metadata": {},
   "source": [
    "<div class=\"alert alert-block alert-info\">\n",
    "\n",
    "*Moment of tension*:\n",
    "\n",
    "- Hook the learner - \"something isn't right and I want to know why.\"\n",
    "\n",
    "</div>"
   ]
  },
  {
   "cell_type": "markdown",
   "id": "d0964c13-f65c-4d5d-ac56-3bdfa56e1ae0",
   "metadata": {
    "jp-MarkdownHeadingCollapsed": true
   },
   "source": [
    "## 3- What is the effect size?"
   ]
  },
  {
   "cell_type": "markdown",
   "id": "c2f0fbb8-8057-46df-9e75-06dbc437ecec",
   "metadata": {},
   "source": [
    "The data in Mini 2 failed to support the hypothesis, but are still useful.\n",
    "\n",
    "We can use these data to compute the **effect size**."
   ]
  },
  {
   "cell_type": "markdown",
   "id": "cdee27a8-a8e7-4e7e-b8bb-8664df42bd66",
   "metadata": {},
   "source": [
    "<div class=\"alert alert-block alert-success\">\n",
    "\n",
    "**Q:** What is the effect size for the data you analyzed?\n",
    "- What is the numerical value?\n",
    "- What does it mean in words?\n",
    "- Is it consistent with your hypothesis?\n",
    "\n",
    "**A:**\n",
    "\n",
    "</div>"
   ]
  },
  {
   "cell_type": "markdown",
   "id": "d9957035-f702-4632-8e5c-24527bd412b6",
   "metadata": {},
   "source": [
    "<div class=\"alert alert-block alert-success\">\n",
    "\n",
    "**Q:** Imagine you repeated the experiment. What would you expect for the effect size?\n",
    "\n",
    "**A:**\n",
    "\n",
    "</div>"
   ]
  },
  {
   "cell_type": "markdown",
   "id": "e6cf4ddc-77bb-42bc-8c41-17d1fabebbec",
   "metadata": {
    "jp-MarkdownHeadingCollapsed": true
   },
   "source": [
    "## 4- With resampling you can repeat any experiment.\n"
   ]
  },
  {
   "cell_type": "markdown",
   "id": "19a18726-c789-43ff-9168-cf8829d2d904",
   "metadata": {},
   "source": [
    "- The data provided in Mini 2 represent one instantiation of the experiment.\n",
    "- Maybe we were unlucky and repeating the experiment with sample size `N` would produce significant results.\n",
    "- But, repeating the experiment is expensive.\n",
    "- An alternative is to resample your data in hand.\n",
    "\n",
    "Let’s do that (with fixed sample size `N`) and examine variability in your effect size. \n",
    "\n",
    "To do so, we'll first generate a list of indices that we'll use to resample our data."
   ]
  },
  {
   "cell_type": "code",
   "execution_count": null,
   "id": "2f83ed80-3448-4187-b74b-7f566dac587e",
   "metadata": {},
   "outputs": [],
   "source": [
    "ind = np.random.choice(np.size(x), np.size(x))"
   ]
  },
  {
   "cell_type": "markdown",
   "id": "4d822ceb-678f-495c-8a43-77f0d4905d03",
   "metadata": {},
   "source": [
    "<div class=\"alert alert-block alert-success\">\n",
    "\n",
    "**Q:** Look at the values in `ind`. Do they make sense?\n",
    "\n",
    "**A:**\n",
    "\n",
    "</div>"
   ]
  },
  {
   "cell_type": "markdown",
   "id": "bd291613-73bb-42ac-8483-0c1bb077e2fa",
   "metadata": {},
   "source": [
    "Now, generate the resampled data"
   ]
  },
  {
   "cell_type": "code",
   "execution_count": null,
   "id": "27c0df42-1d27-444c-a99b-9a060044e3cd",
   "metadata": {},
   "outputs": [],
   "source": [
    "x_resampled = x[ind]\n",
    "lifespan_resampled = lifespan[ind]"
   ]
  },
  {
   "cell_type": "markdown",
   "id": "c881df81-4f0c-4597-a709-a370cfae4324",
   "metadata": {},
   "source": [
    "And fit the linear model to compute the slope and significance."
   ]
  },
  {
   "cell_type": "code",
   "execution_count": null,
   "id": "d32e4b19-83ae-423b-8d28-4a564a70cde0",
   "metadata": {},
   "outputs": [],
   "source": [
    "dat                = {\"x\": x_resampled, \"lifespan\": lifespan_resampled}\n",
    "regression_results = ols(\"lifespan ~ 1 + x\", data=dat).fit()\n",
    "\n",
    "print('Slope estimate =',regression_results.params[1])\n",
    "print('p-value        =',regression_results.pvalues[1])"
   ]
  },
  {
   "cell_type": "markdown",
   "id": "8814f4c9-84e1-41a4-b287-c96d064fdda5",
   "metadata": {},
   "source": [
    "<div class=\"alert alert-block alert-success\">\n",
    "\n",
    "**Q:** Repeat these steps to generate results from multiple \"experiments\". Do you ever find a significant result? What p-values do you find?\n",
    "\n",
    "**A:**\n",
    "\n",
    "</div>"
   ]
  },
  {
   "cell_type": "markdown",
   "id": "0b36be1a-d4ed-443d-a883-7c8bdd24a479",
   "metadata": {},
   "source": [
    "<div class=\"alert alert-block alert-info\">\n",
    "\n",
    "*Conclusion*:\n",
    "\n",
    "- Using the sample size `N` and resampling the data we get qualitatively similar - but quantitatively different - results.\n",
    "- We do not (or very infrequently) find a significant relationship between lifespan and $x$.\n",
    "- The significance (p-value) changes for each resample. \n",
    "\n",
    "</div>"
   ]
  },
  {
   "cell_type": "markdown",
   "id": "be0fc241-9c23-4afe-b0c0-0e70ecd37a5f",
   "metadata": {
    "jp-MarkdownHeadingCollapsed": true
   },
   "source": [
    "## 5- You have the power!  "
   ]
  },
  {
   "cell_type": "markdown",
   "id": "298ecca4-06c9-4683-8e69-ea704ddd0c9e",
   "metadata": {},
   "source": [
    "Resampling provides a direct, computational approach to compute the **power**."
   ]
  },
  {
   "cell_type": "markdown",
   "id": "98be7354-5771-4400-880f-b21181be8967",
   "metadata": {},
   "source": [
    "<div class=\"alert alert-block alert-danger\">\n",
    "Define power.\n",
    "    \n",
    "- It's a mysterious parameter in the online calculator.\n",
    "- What does Power = 0.8 mean?\n",
    "- What does alpha = 0.05 mean?\n",
    "</div>"
   ]
  },
  {
   "cell_type": "markdown",
   "id": "6eb06322-0ec0-426e-83eb-9e92dba806c9",
   "metadata": {},
   "source": [
    "The procedure to compute the power using resampling is simple. Here are the steps in general:\n",
    "\n",
    "1. Resample the data.\n",
    "2. Compute the significance of the proposed effect.\n",
    "3. Repeat 1-2 many times.\n",
    "\n",
    "The power is the number of times we detect a significant effect, divided by the total number of repetitions."
   ]
  },
  {
   "cell_type": "markdown",
   "id": "f6d0e580-1fe3-43e5-adfd-40ee1c16973f",
   "metadata": {},
   "source": [
    "Let's apply this procedure to our data and effect of interest:"
   ]
  },
  {
   "cell_type": "code",
   "execution_count": null,
   "id": "1a3146d1-1410-415c-b9cb-1db7c23caa8b",
   "metadata": {},
   "outputs": [],
   "source": [
    "number_of_repetitions = 1000\n",
    "p_value = np.zeros(number_of_repetitions)\n",
    "for k in np.arange(number_of_repetitions):\n",
    "    ind = np.random.choice(np.size(x), np.size(x))\n",
    "    x_resampled = x[ind]\n",
    "    lifespan_resampled = lifespan[ind]\n",
    "    dat                = {\"x\": x_resampled, \"lifespan\": lifespan_resampled}\n",
    "    regression_results = ols(\"lifespan ~ 1 + x\", data=dat).fit()\n",
    "    p_value[k] = regression_results.pvalues[1]"
   ]
  },
  {
   "cell_type": "markdown",
   "id": "78c28d4c-7143-4fe0-8c50-9eb9d0f49272",
   "metadata": {},
   "source": [
    "<div class=\"alert alert-block alert-success\">\n",
    "\n",
    "**Q:** Does the code above make sense? Can you see the data resampled, and the estimated model?\n",
    "\n",
    "**A:**\n",
    "\n",
    "</div>"
   ]
  },
  {
   "cell_type": "markdown",
   "id": "f7c1c1fd-ccc2-4102-9dfd-2ff3472c6158",
   "metadata": {},
   "source": [
    "Now, compute the power"
   ]
  },
  {
   "cell_type": "code",
   "execution_count": null,
   "id": "c5acb69b-3d3d-43b3-8ce0-c12e2fccef2b",
   "metadata": {},
   "outputs": [],
   "source": [
    "Power = np.sum(p_value < 0.05)/number_of_repetitions\n",
    "print(Power)"
   ]
  },
  {
   "cell_type": "markdown",
   "id": "7e0398d2-ead5-47ef-8c8b-5ad750444c85",
   "metadata": {},
   "source": [
    "<div class=\"alert alert-block alert-success\">\n",
    "\n",
    "**Q:** What value do you find for `Power`?\n",
    "\n",
    "- Interpert this value.\n",
    "- Do you have enough data to detect the effect?\n",
    "\n",
    "**A:**\n",
    "\n",
    "</div>"
   ]
  },
  {
   "cell_type": "markdown",
   "id": "5e371a04-3a3a-4060-8a69-c186c5ae1d1e",
   "metadata": {
    "jp-MarkdownHeadingCollapsed": true
   },
   "source": [
    "## 6- You have the sample size!"
   ]
  },
  {
   "cell_type": "markdown",
   "id": "c76961b2-e88a-4f5e-b9be-c12123c379e0",
   "metadata": {},
   "source": [
    "- In Unit 5, we used resampling with a fixed sample size to compute the power.\n",
    "- We can use the same resampling approach to compute the **sample size** for a fixed power."
   ]
  },
  {
   "cell_type": "markdown",
   "id": "bf20ce25-41f7-48ff-b98a-8d62993fb7fd",
   "metadata": {},
   "source": [
    "<div class=\"alert alert-block alert-danger\">\n",
    "Provide some intuition for this calculation.\n",
    "</div>"
   ]
  },
  {
   "cell_type": "markdown",
   "id": "7d3a5b17-8f4d-41c8-b964-80190e17e82c",
   "metadata": {},
   "source": [
    "Let's do it!"
   ]
  },
  {
   "cell_type": "code",
   "execution_count": null,
   "id": "1627daf9-3802-4a01-a6a8-29f6be074a75",
   "metadata": {},
   "outputs": [],
   "source": [
    "N_resampled = 100;\n",
    "number_of_repetitions = 1000\n",
    "p_value = np.zeros(number_of_repetitions)\n",
    "for k in np.arange(number_of_repetitions):\n",
    "    ind = np.random.choice(np.size(x), N_resampled)\n",
    "    x_resampled = x[ind]\n",
    "    lifespan_resampled = lifespan[ind]\n",
    "    dat                = {\"x\": x_resampled, \"lifespan\": lifespan_resampled}\n",
    "    regression_results = ols(\"lifespan ~ 1 + x\", data=dat).fit()\n",
    "    p_value[k] = regression_results.pvalues[1]\n",
    "Power = np.sum(p_value < 0.05)/number_of_repetitions\n",
    "print('N=',N_resampled,'Power=',Power)"
   ]
  },
  {
   "cell_type": "markdown",
   "id": "eb0b017d-c306-4bb8-9d85-a8094baf7fc7",
   "metadata": {},
   "source": [
    "<div class=\"alert alert-block alert-success\">\n",
    "\n",
    "**Q:** How does increasing the sample size `N_resampled` impact the power?\n",
    "\n",
    "**A:**\n",
    "\n",
    "</div>"
   ]
  },
  {
   "cell_type": "markdown",
   "id": "74580d8a-d275-40c6-93ed-dbfd13c6c8e9",
   "metadata": {},
   "source": [
    "<div class=\"alert alert-block alert-success\">\n",
    "\n",
    "**Q:** At what value of `N_resampled` is the power just above 0.8?\n",
    "\n",
    "- How does this compare to the results from your online calculator?\n",
    "\n",
    "**A:**\n",
    "\n",
    "</div>"
   ]
  },
  {
   "cell_type": "markdown",
   "id": "5b0d6513-ce83-4e8f-b2a5-285ae9ae5ab2",
   "metadata": {
    "jp-MarkdownHeadingCollapsed": true
   },
   "source": [
    "## 7- Well powered experiments can provide strong evidence"
   ]
  },
  {
   "cell_type": "markdown",
   "id": "6db6374d-cf7d-4781-9b36-e1163e224b7b",
   "metadata": {},
   "source": [
    "- We used two approaches to calculate the sample size: 1) online calculator, 2) resampling.\n",
    "- We found that resampling suggests a much larger sample size is required to have sufficient power to detect the effect.\n",
    "- Let’s now “collect new data” and see if we detect a significant effect."
   ]
  },
  {
   "cell_type": "markdown",
   "id": "099fe13a-721f-44ac-a55a-8c068d053dc5",
   "metadata": {},
   "source": [
    "Let's begin by collecting the new data, now using the sample size you found through resampling."
   ]
  },
  {
   "cell_type": "code",
   "execution_count": null,
   "id": "81c489a3-b950-4f63-94e1-8b087bd7427c",
   "metadata": {},
   "outputs": [],
   "source": [
    "N = 800\n",
    "x,lifespan = load_data(N)"
   ]
  },
  {
   "cell_type": "markdown",
   "id": "942a8b66-3722-484f-b479-cbe115f10fa1",
   "metadata": {},
   "source": [
    "Let's plot it."
   ]
  },
  {
   "cell_type": "code",
   "execution_count": null,
   "id": "7f315412-72c0-4e8e-9fa8-ec373f2244f9",
   "metadata": {},
   "outputs": [],
   "source": [
    "plt.scatter(x,lifespan)\n",
    "plt.xlabel('Genetic biomarker x')\n",
    "plt.ylabel('Lifespan (years)');"
   ]
  },
  {
   "cell_type": "markdown",
   "id": "d8014187-15f0-4f8b-9169-0a1ba676051b",
   "metadata": {},
   "source": [
    "<div class=\"alert alert-block alert-success\">\n",
    "\n",
    "**Q:** Compare the plot of these new data (with `N=800`) to the plot of the original data. How are the plots similar or different?\n",
    "\n",
    "- Do you see the same trend in both plots?\n",
    "\n",
    "**A:**\n",
    "\n",
    "</div>"
   ]
  },
  {
   "cell_type": "markdown",
   "id": "a99d171d-358b-41d3-9dab-c4b52842f08c",
   "metadata": {},
   "source": [
    "Now, let's test our hypothesis."
   ]
  },
  {
   "cell_type": "code",
   "execution_count": null,
   "id": "bdf5b390-752c-472b-bac7-ac5b69811260",
   "metadata": {},
   "outputs": [],
   "source": [
    "from statsmodels.formula.api import ols\n",
    "\n",
    "dat                = {\"x\": x, \"lifespan\": lifespan}\n",
    "regression_results = ols(\"lifespan ~ 1 + x\", data=dat).fit()\n",
    "print('Slope estimate =',regression_results.params[1])\n",
    "print('p-value        =',regression_results.pvalues[1])"
   ]
  },
  {
   "cell_type": "markdown",
   "id": "e4761ace-4c77-4faa-b208-0462756fefa4",
   "metadata": {},
   "source": [
    "<div class=\"alert alert-block alert-success\">\n",
    "\n",
    "**Q:** What is the effect size and significance?\n",
    "\n",
    "- How do these results compare to the original data set?\n",
    "\n",
    "**A:**\n",
    "\n",
    "</div>"
   ]
  },
  {
   "cell_type": "markdown",
   "id": "55240b1c-bdab-4bd1-9a6d-517c3016fccf",
   "metadata": {},
   "source": [
    "Let's also **visualize** the estimated line by plotting it with the data."
   ]
  },
  {
   "cell_type": "code",
   "execution_count": null,
   "id": "ecfc78e3-8de5-49d9-a8fc-1cc2a2312fb2",
   "metadata": {},
   "outputs": [],
   "source": [
    "pred   = regression_results.get_prediction().summary_frame()\n",
    "mn     = pred['mean']\n",
    "ci_low = pred['mean_ci_lower'] \n",
    "ci_upp = pred['mean_ci_upper']\n",
    "\n",
    "# And plot it.\n",
    "indices_sorted = np.argsort(x,0)\n",
    "plt.scatter(x,lifespan)\n",
    "plt.plot(x[indices_sorted[:,0]],mn[indices_sorted[:,0]], 'r')\n",
    "plt.plot(x[indices_sorted[:,0]],ci_low[indices_sorted[:,0]], ':r')\n",
    "plt.plot(x[indices_sorted[:,0]],ci_upp[indices_sorted[:,0]], ':r')\n",
    "plt.xlabel('Genetic biomarker x')\n",
    "plt.ylabel('Lifespan (years)');"
   ]
  },
  {
   "cell_type": "markdown",
   "id": "8c61310f-0dca-4663-af22-46396fe732fc",
   "metadata": {},
   "source": [
    "<div class=\"alert alert-block alert-success\">\n",
    "\n",
    "**Q:** How do these results compare to the original data set?\n",
    "\n",
    "**A:**\n",
    "\n",
    "</div>"
   ]
  },
  {
   "cell_type": "markdown",
   "id": "37e67739-960d-4a6b-8ba4-8cf73c53ae7b",
   "metadata": {},
   "source": [
    "<div class=\"alert alert-block alert-success\">\n",
    "\n",
    "**Q:** What do you conclude about the relationship between the genetic biomarker `x` and `lifespan`?\n",
    "\n",
    "**A:**\n",
    "\n",
    "</div>"
   ]
  },
  {
   "cell_type": "markdown",
   "id": "2c3c863e-38fe-4f1a-b200-33e92a3bdc2e",
   "metadata": {},
   "source": [
    "<div class=\"alert alert-block alert-info\">\n",
    "\n",
    "*Conclusion*:\n",
    "\n",
    "- The resampling procedure allowed us to compute a large enough sample size, so our experiment was sufficiently powered, and we detected a significant effect.\n",
    "\n",
    "\n",
    "</div>"
   ]
  },
  {
   "cell_type": "markdown",
   "id": "6109d93d-6b05-455e-941a-401447e4bcfb",
   "metadata": {
    "jp-MarkdownHeadingCollapsed": true
   },
   "source": [
    "## 8- Summary"
   ]
  },
  {
   "cell_type": "markdown",
   "id": "694361d5-4d5d-470c-bf3c-7076bf25c578",
   "metadata": {},
   "source": [
    "- Internet searches or stats 101 textbooks will arrive at sample sizes of 10-100.\n",
    "- Sketch the initial naive intuition of lifespan vs $x$. We usually underestimate variability in lifespan → underestimate sample size.\n",
    "- However, the actual answer is more like 500-1000 due to the large variability in human lifespans compared to the relatively small effect size.\n",
    "- Although the effect size is meaningful scientifically, it is small compared to the measurement variability.\n",
    "- Warning: initial draw of a small sample size may produce (by chance) an opposite effect. In that case, resampling will not produce meaningful power/sample size results."
   ]
  },
  {
   "cell_type": "markdown",
   "id": "5f2274d3-4bf7-4cdb-82c5-4ff1d9647fd3",
   "metadata": {},
   "source": [
    "<div class=\"alert alert-block alert-success\">\n",
    "\n",
    "**Q:** Consider a new data set (provided). Yese these data to estimate the sample size required to acheive 80% power.\n",
    "\n",
    "**A:**\n",
    "\n",
    "</div>"
   ]
  }
 ],
 "metadata": {
  "kernelspec": {
   "display_name": "Python 3 (ipykernel)",
   "language": "python",
   "name": "python3"
  },
  "language_info": {
   "codemirror_mode": {
    "name": "ipython",
    "version": 3
   },
   "file_extension": ".py",
   "mimetype": "text/x-python",
   "name": "python",
   "nbconvert_exporter": "python",
   "pygments_lexer": "ipython3",
   "version": "3.8.18"
  }
 },
 "nbformat": 4,
 "nbformat_minor": 5
}
