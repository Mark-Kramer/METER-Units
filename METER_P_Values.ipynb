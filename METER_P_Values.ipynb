{
 "cells": [
  {
   "cell_type": "markdown",
   "id": "183f8782-7b20-4c50-9b24-330b84c51dee",
   "metadata": {},
   "source": [
    "# Putting the p-value in Context"
   ]
  },
  {
   "cell_type": "markdown",
   "id": "370d49c8-c942-4f1c-a76b-15269c6ddb25",
   "metadata": {},
   "source": [
    "Neuroscience researchers typically report p-values to express the strength of statistical evidence; but p-values are not sufficient on their own to understand the meaning and value of a scientific inference. In this unit, learners will learn how to interpret the p-value, how to express the size of an effect and uncertainty about a result, and how to interpret results at both the individual and population levels."
   ]
  },
  {
   "cell_type": "markdown",
   "id": "9b976912-2b5d-4ae1-be2a-2f1f40cb1d3e",
   "metadata": {},
   "source": [
    "<div class=\"alert alert-block alert-danger\">\n",
    "<b>Alert:</b> If you're running this on <b>Google Colab</b>, then uncomment and run the next two cells.\n",
    "</div>"
   ]
  },
  {
   "cell_type": "code",
   "execution_count": 1,
   "id": "07d1c4fa-2969-419e-8d60-1e9075cb3076",
   "metadata": {},
   "outputs": [],
   "source": [
    "# !git clone https://github.com/Mark-Kramer/METER-Units.git"
   ]
  },
  {
   "cell_type": "code",
   "execution_count": 2,
   "id": "8658c043-55e3-4ef9-83e2-078809684b7b",
   "metadata": {},
   "outputs": [],
   "source": [
    "# import sys\n",
    "# sys.path.insert(0,'/content/METER-Units')"
   ]
  },
  {
   "cell_type": "markdown",
   "id": "4c27513a-502c-42e2-8a0a-a079e474ba3e",
   "metadata": {},
   "source": [
    "## 1 - Here’s some data, give me the p’s!"
   ]
  },
  {
   "cell_type": "code",
   "execution_count": 3,
   "id": "8ae7402f-3399-4340-a306-0c557f42893d",
   "metadata": {},
   "outputs": [],
   "source": [
    "# Load modules\n",
    "import numpy as np\n",
    "import matplotlib.pyplot as plt\n",
    "import scipy.stats as stats\n",
    "# import statsmodels.api as sm\n",
    "# from tqdm import tqdm\n",
    "# from matplotlib.colors import ListedColormap\n",
    "# Load custom functions\n",
    "from pvalue_functions import *"
   ]
  },
  {
   "attachments": {},
   "cell_type": "markdown",
   "id": "f512e22f-0af3-4e6e-8c7f-d5d4d68263f5",
   "metadata": {},
   "source": [
    "<div class=\"alert alert-block alert-info\">\n",
    "\n",
    "*Introduction*:\n",
    "- Your lab collects an EEG biomarker of memory ([spindle rate](https://en.wikipedia.org/wiki/Sleep_spindle)) from N=30 human subjects.\n",
    "- To do so, your lab measures the spindle rate twice per minute. Your lab has a [reliable detector](https://github.com/Mark-Kramer/Spindle-Detector-Method) to find spindles; this detector is known to be accurate outside of treatment. We expect it to still work during treatment, but we also expect more variability in the spindles (hence more variability in the detections) during treatment.\n",
    "- Your lab measures spindle rate during two conditions:\n",
    "    - **During Treatment**: Data collection during a 10 minute intervention, resulting in 20 samples of spindle rate for each subject.\n",
    "    - **Post-treatment**: Data collection after intervention lasts 7 hours, while the subject sleeps, resulting in 840 samples of spindle rate for each subject.\n",
    "\n",
    "- Each sample is relative to the subject's baseline spindle rate (i.e., it’s 0 mean). So values greater than 0 indicate an increase in spindle rate relative to baseline.\n",
    "  \n",
    "-  Your PI says: *I want to know if there’s an effect of treatment in each human. **Give me the p’s!***\n",
    "\n",
    "</div>"
   ]
  },
  {
   "cell_type": "markdown",
   "id": "4948ed4b-ef63-4093-bfaa-d7df5c8d6457",
   "metadata": {},
   "source": [
    "<div class=\"alert alert-block alert-success\">\n",
    "\n",
    "**Q:** What does the PI mean by *\"Give me the p's\"*?\n",
    "\n",
    "**A:** (Short answer - word cloud ...)\n",
    "</div>"
   ]
  },
  {
   "cell_type": "markdown",
   "id": "b643477e-72fe-42ab-8af6-207c899589a8",
   "metadata": {},
   "source": [
    "<div class=\"alert alert-block alert-success\">\n",
    "\n",
    "**Q:** Exercise that asks about the appropriateness of p-values for different types of research questions would be good to build intuition around exactly what they are for.\n",
    "\n",
    "**A:** (Goal is to build intition for what a p-value means.)\n",
    "</div>"
   ]
  },
  {
   "cell_type": "markdown",
   "id": "ccf868fc-dd00-47cc-9c93-c1eb946ef9a2",
   "metadata": {},
   "source": [
    "<div class=\"alert alert-block alert-success\">\n",
    "\n",
    "**Q:** Have you ever computed a p-value (in software)?\n",
    "\n",
    "**A:** (Survey)\n",
    "</div>"
   ]
  },
  {
   "cell_type": "markdown",
   "id": "d6ff77b0-4c41-477a-be4f-dd5de75d4ff9",
   "metadata": {},
   "source": [
    "## 2- Let’s do it: Define & compute p-values.\n"
   ]
  },
  {
   "cell_type": "markdown",
   "id": "640bdefa-0c4f-4c56-a785-96cb047488d4",
   "metadata": {},
   "source": [
    "Let's start by considering answers to these two questions:\n",
    "\n",
    "- What does a p-value test?\n",
    "\n",
    "  Sometimes statisticians think backwards. We'd like to know how the spindle rate changes relative to baseline. To test this, we'll start by assuming the opposite: we'll hypothesize that the spindle rate does not change. This is called the **null hypothesis**. The p-value indicates how much evidence we have to reject the null hypothesis given the data we observe. It's like a measure of surprise. If we're surprised by the observed data, then we'll reject the null hypothesis, and conclude we have evidence that the spindle rate changes relative to baseline.\n",
    "\n",
    "  Alternatively, if we're not surprised by the observed data, then we'll conclude that we lack sufficient evidence to reject the null hypothesis. There's an important subtely here that statisicians like to point out - when we're testing this weay, we never accept the null hypothesis. Instead, the best we can do is talk like a statistican and say things like \"we fail to reject the null hypothesis\".\n",
    "\n",
    "- What does p<0.05 mean?\n"
   ]
  },
  {
   "cell_type": "markdown",
   "id": "400f67a4-fdbf-4f4f-94f6-7762410850c1",
   "metadata": {},
   "source": [
    "Let's now return to the human data. First, let's consi the null hypothesis the PI wants to test."
   ]
  },
  {
   "cell_type": "markdown",
   "id": "b5673480-4287-418e-b1de-169ba0f28d91",
   "metadata": {},
   "source": [
    "<div class=\"alert alert-block alert-success\">\n",
    "\n",
    "**Q:** The PI says *“I expect that during treatment the spindle rate > 0.”* What is the null hypothesis?\n",
    "\n",
    "**A:** (Multiple Choice)\n",
    "\n",
    "Correct ansewr: Mean spindle rate during treatment = 0.\n",
    "\n",
    "</div>"
   ]
  },
  {
   "cell_type": "markdown",
   "id": "49cd00d8-f68b-448e-a1e1-856739c30e20",
   "metadata": {},
   "source": [
    "<div class=\"alert alert-block alert-success\">\n",
    "\n",
    "**Q:** The PI says *“I expect that post-treatment the spindle rate is not different from the baseline spindle rate.”* What is the null hypothesis?\n",
    "\n",
    "**A:** (Multiple Choice)\n",
    "\n",
    "Correct ansewr: Mean spindle rate post-treatment = 0.\n",
    "\n",
    "</div>"
   ]
  },
  {
   "cell_type": "markdown",
   "id": "d74d0273-2992-410f-8fa1-8a8fa4618c36",
   "metadata": {},
   "source": [
    "Now, let's load the data and compute the p-values."
   ]
  },
  {
   "cell_type": "code",
   "execution_count": 4,
   "id": "33807648-6ab3-48ef-aa85-6f1ebc080206",
   "metadata": {},
   "outputs": [],
   "source": [
    "during_treatment, post_treatment = load_data()"
   ]
  },
  {
   "cell_type": "markdown",
   "id": "6d4e2d65-ea12-445e-a35a-f07e786b97f8",
   "metadata": {},
   "source": [
    "Let's start by investigating the structure of the data."
   ]
  },
  {
   "cell_type": "code",
   "execution_count": 5,
   "id": "e581a977-88b6-42f8-9dcc-302e78b5cf4c",
   "metadata": {},
   "outputs": [
    {
     "name": "stdout",
     "output_type": "stream",
     "text": [
      "(30, 20)\n",
      "(840, 20)\n"
     ]
    }
   ],
   "source": [
    "print(during_treatment.shape)\n",
    "print(post_treatment.shape)"
   ]
  },
  {
   "cell_type": "markdown",
   "id": "9ac36663-960b-4b28-8052-3fb9f12caf6d",
   "metadata": {},
   "source": [
    "Both `during_treatment` and `post_treatment` consist of observations from 20 subjects (the number of columns). We collect 30 samples during treatment and 840 samples after treatment (the number of rows).\n",
    "\n",
    "You might think of these variables as rectangles (or matrices), where each row indicates a sample of spindle rate, and each column indicates a subject:\n",
    "\n",
    "![title](IMG_Pvalue/simple_boxes_during_and_post.jpg)"
   ]
  },
  {
   "cell_type": "markdown",
   "id": "cc44310e-ac96-4a61-b3fd-a94511633b63",
   "metadata": {},
   "source": [
    "Let's now compute the p-values during treatment:"
   ]
  },
  {
   "cell_type": "code",
   "execution_count": 6,
   "id": "10ec16f4-2003-421e-9077-0dabde8cc17f",
   "metadata": {},
   "outputs": [],
   "source": [
    "result = stats.ttest_1samp(during_treatment,popmean=0,alternative='greater')\n",
    "p_value_during = result.pvalue\n",
    "\n",
    "result = stats.ttest_1samp(post_treatment,  popmean=0,alternative='greater')\n",
    "p_value_post   = result.pvalue"
   ]
  },
  {
   "cell_type": "markdown",
   "id": "ecccbcb0-57d2-4403-8d2f-7611d56d24b9",
   "metadata": {},
   "source": [
    "Let's investigate the shape of these results:"
   ]
  },
  {
   "cell_type": "code",
   "execution_count": 7,
   "id": "0ebc8860-3292-41bf-aa9a-06e61bf9a16e",
   "metadata": {},
   "outputs": [
    {
     "name": "stdout",
     "output_type": "stream",
     "text": [
      "(20,)\n",
      "(20,)\n"
     ]
    }
   ],
   "source": [
    "print(p_value_during.shape)\n",
    "print(p_value_post.shape)"
   ]
  },
  {
   "cell_type": "markdown",
   "id": "1b1d5022-e9b6-4909-8087-99a58cf7d723",
   "metadata": {},
   "source": [
    "<div class=\"alert alert-block alert-success\">\n",
    "\n",
    "**Q:** Do these shapes make sense?\n",
    "\n",
    "**A:** Yes, there's one p-value per subject, and we have 20 subjects.\n",
    "\n",
    "</div>"
   ]
  },
  {
   "cell_type": "markdown",
   "id": "a0ee326a-d800-4b89-9082-2cf91c533ce9",
   "metadata": {},
   "source": [
    "Let's print the p-values for each subject, for both conditions:"
   ]
  },
  {
   "cell_type": "markdown",
   "id": "2ce7846b-5fc8-4607-b1ff-8bf18d5981d0",
   "metadata": {},
   "source": [
    "Let's also plot the p-values for both conditions:"
   ]
  },
  {
   "cell_type": "code",
   "execution_count": 8,
   "id": "e43ff967-7db5-4301-b62d-90033fbe57c6",
   "metadata": {},
   "outputs": [
    {
     "name": "stdout",
     "output_type": "stream",
     "text": [
      "Subject  0 , During p= 0.25882 ,  Post p= 0.00076\n",
      "Subject  1 , During p= 0.44433 ,  Post p= 0.00036\n",
      "Subject  2 , During p= 0.3167 ,  Post p= 0.00593\n",
      "Subject  3 , During p= 0.11148 ,  Post p= 0.00098\n",
      "Subject  4 , During p= 0.00319 ,  Post p= 0.00052\n",
      "Subject  5 , During p= 0.15482 ,  Post p= 0.00243\n",
      "Subject  6 , During p= 0.00621 ,  Post p= 7.93688e-06\n",
      "Subject  7 , During p= 0.49721 ,  Post p= 0.20865\n",
      "Subject  8 , During p= 0.04499 ,  Post p= 0.02699\n",
      "Subject  9 , During p= 0.13023 ,  Post p= 0.01229\n",
      "Subject  10 , During p= 0.03545 ,  Post p= 0.18303\n",
      "Subject  11 , During p= 0.0698 ,  Post p= 1.83867e-07\n",
      "Subject  12 , During p= 0.0085 ,  Post p= 1.35552e-05\n",
      "Subject  13 , During p= 0.05839 ,  Post p= 0.00038\n",
      "Subject  14 , During p= 0.09546 ,  Post p= 0.00127\n",
      "Subject  15 , During p= 0.367 ,  Post p= 3.20062e-06\n",
      "Subject  16 , During p= 0.15044 ,  Post p= 1.26967e-07\n",
      "Subject  17 , During p= 0.23197 ,  Post p= 0.00036\n",
      "Subject  18 , During p= 0.02497 ,  Post p= 0.02294\n",
      "Subject  19 , During p= 0.14634 ,  Post p= 0.00056\n"
     ]
    }
   ],
   "source": [
    "for k in np.arange(0,20):\n",
    "    print('Subject ', k, ', During p=', np.array2string(p_value_during[k], precision=5), ',  Post p=', np.array2string(p_value_post[k], precision=5))"
   ]
  },
  {
   "cell_type": "code",
   "execution_count": 9,
   "id": "5783096b-96d5-4283-8f5b-d26e40cf1681",
   "metadata": {},
   "outputs": [
    {
     "data": {
      "image/png": "[encoded data removed]",
      "text/plain": [
       "<Figure size 1200x200 with 1 Axes>"
      ]
     },
     "metadata": {},
     "output_type": "display_data"
    },
    {
     "data": {
      "image/png": "[encoded data removed]",
      "text/plain": [
       "<Figure size 1200x200 with 1 Axes>"
      ]
     },
     "metadata": {},
     "output_type": "display_data"
    }
   ],
   "source": [
    "# Plot the spiking from an example neuron.\n",
    "plt.figure(figsize=(12, 2))\n",
    "plt.plot(p_value_during);\n",
    "plt.xlabel('Subject'); plt.ylabel('p value'); plt.title('During Treatment'); plt.ylim([0,1]);\n",
    "plt.figure(figsize=(12, 2))\n",
    "plt.plot(p_value_post);\n",
    "plt.xlabel('Subject'); plt.title('Post Treatment'); plt.ylabel('p value'); plt.ylim([0,1]);"
   ]
  },
  {
   "cell_type": "markdown",
   "id": "2c820098-3913-4eb2-afb4-407f295a6884",
   "metadata": {},
   "source": [
    "<div class=\"alert alert-block alert-success\">\n",
    "\n",
    "**Q:** Let's first interpert the plots of p-values. What do you see?\n",
    "\n",
    "**A:** The p-values are much smaller post-treatment, compared to during treatment.\n",
    "\n",
    "</div>"
   ]
  },
  {
   "cell_type": "markdown",
   "id": "735f4438-57fd-4b59-8feb-9307d560d3d5",
   "metadata": {},
   "source": [
    "Now, do we have evidence to reject the null hypothesis?\n",
    "\n",
    "If we perform one statistical test, then we typically reject the null hypothesis if\n",
    "\n",
    "p < 0.05\n",
    "\n",
    "But here we compute 20 test (one for each subject). When we perform multiple tests, it's important we consider the impact of [multiple comparisons](). To do so here we'll apply a Bonferroni correction."
   ]
  },
  {
   "cell_type": "code",
   "execution_count": 10,
   "id": "d4ef734d-b387-49b9-87f4-2a57eedc6873",
   "metadata": {},
   "outputs": [
    {
     "name": "stdout",
     "output_type": "stream",
     "text": [
      "Significant p-values during treatment =  0\n",
      "Significant p-values post treatment   =  14\n"
     ]
    }
   ],
   "source": [
    "print('Significant p-values during treatment = ',np.sum(p_value_during < 0.05/20))\n",
    "print('Significant p-values post treatment   = ',np.sum(p_value_post   < 0.05/20))"
   ]
  },
  {
   "cell_type": "markdown",
   "id": "8e8b79a3-3e97-4b07-a65f-fe860f5eb513",
   "metadata": {},
   "source": [
    "<div class=\"alert alert-block alert-success\">\n",
    "\n",
    "**Q:** The PI requested “Give me the p’s!” Now that we've corrected for multiple comparisons, let's interpret these p-value  for the human data. Do you have evidence to reject the null hypothesis during treatment and/or post-treatment?\n",
    "\n",
    "**A:** Yes, in the post-treatment condition.\n",
    "\n",
    "</div>"
   ]
  },
  {
   "cell_type": "markdown",
   "id": "a85e46af-087e-4fee-869a-47274da47de5",
   "metadata": {},
   "source": [
    "<div class=\"alert alert-block alert-success\">\n",
    "\n",
    "**Q:** We do not find any p-values that pass our significance threshold during treatment. Does this mean that the spindle rate during treatment does not change relative to baseline?\n",
    "\n",
    "**A:** No! We never accept the null hypothesis. Remember we have to talk like a statistician. The most we can say is: \"We fail to reject the null hypothesis that the spindle rate during treatment differs from baseline.\"\n",
    "\n",
    "</div>"
   ]
  },
  {
   "cell_type": "markdown",
   "id": "fe097ca1-7981-4d8b-8c01-61b5127f4afb",
   "metadata": {},
   "source": [
    "<div class=\"alert alert-block alert-danger\">\n",
    "<b>Summary:</b> We've computed p-values testing the null hypothesis:\n",
    "    \n",
    "- that the spindle rate during treatment = 0,\n",
    "\n",
    "or \n",
    "\n",
    "- that the spindle rate post-treatment = 0.\n",
    "\n",
    "We've done this for each subject. Our intial results suggest we can reject the null hypothesis only in the post-treatment condition.\n",
    "</p>\n",
    "</div>"
   ]
  },
  {
   "cell_type": "markdown",
   "id": "3a9712a9-ae79-4450-9f59-68966a7e2fad",
   "metadata": {},
   "source": [
    "## 3- Great, let’s publish!"
   ]
  },
  {
   "cell_type": "markdown",
   "id": "af4400a4-39f9-4ee2-ba11-06264c34d038",
   "metadata": {},
   "source": [
    "The results in Mini 2 are surprising; we find significant effects during post-treatment, but not during treatment.\n",
    "\n",
    "Let's continue to explore these results.\n",
    "\n",
    "To start, let's print the sorted p-values during treatment and post-treatment."
   ]
  },
  {
   "cell_type": "code",
   "execution_count": 11,
   "id": "6f53aedd-b836-419d-95bd-fb7e4bc0fc31",
   "metadata": {},
   "outputs": [
    {
     "name": "stdout",
     "output_type": "stream",
     "text": [
      "Sorted p-value during treatment = \n",
      "[0.00318973 0.00620764 0.00849591 0.02497085 0.03545462 0.04498967\n",
      " 0.05839463 0.06979508 0.09545534 0.11147542 0.13022811 0.14633736\n",
      " 0.15043762 0.15481571 0.23197469 0.25881861 0.31669617 0.36699854\n",
      " 0.4443327  0.49721383] \n",
      "\n",
      "Sorted p-value post-treatment   = \n",
      "[1.26967155e-07 1.83867367e-07 3.20062323e-06 7.93687843e-06\n",
      " 1.35552373e-05 3.58470268e-04 3.62227839e-04 3.82772395e-04\n",
      " 5.24847036e-04 5.55137322e-04 7.64233678e-04 9.83800988e-04\n",
      " 1.26951739e-03 2.43115792e-03 5.93356307e-03 1.22943972e-02\n",
      " 2.29358779e-02 2.69875345e-02 1.83026065e-01 2.08650051e-01]\n"
     ]
    }
   ],
   "source": [
    "print('Sorted p-value during treatment = ')\n",
    "print(np.sort(p_value_during),'\\n')\n",
    "\n",
    "print('Sorted p-value post-treatment   = ')\n",
    "print(np.sort(p_value_post))"
   ]
  },
  {
   "cell_type": "markdown",
   "id": "1b5a128e-ebd5-4453-8dac-445d7320ef15",
   "metadata": {},
   "source": [
    "<div class=\"alert alert-block alert-success\">\n",
    "\n",
    "**Q:** Compare these two sets of p-values. What does it mean?\n",
    "\n",
    "**A:** Look at how small the p-values are post-treatment! Most of the p-values post-treatment are less than 0.001. Alternatively, during treatment, the p-values are much bigger, and we find no p-values less than 0.001.\n",
    "\n",
    "These observations are  consistent with our results in Mini 2, in which we showed many more significant p-values post-treatment.\n",
    "\n",
    "*Interpretation*: Understanding what this means is very important. We'll begin examining it here, and will continue in the next units. There's something subtle here ...\n",
    "\n",
    "</div>"
   ]
  },
  {
   "cell_type": "markdown",
   "id": "14bc7ab2-e201-4002-8590-8216cde7757b",
   "metadata": {},
   "source": [
    "<div class=\"alert alert-block alert-success\">\n",
    "\n",
    "**Q:** Review the characteristics of the during and post-treatment data (Mini 1). How might these characteristics impact the p-values?\n",
    "\n",
    "**A:** This is a very important question ... and we're not going to answer it yet. But here's a hint: notice that we collect many more samples post-treatment, compared to during treatment. I wonder how this might impact our p-value comparisons ... \n",
    "\n",
    "</div>"
   ]
  },
  {
   "cell_type": "markdown",
   "id": "dfac50e4-8c47-4f18-8a68-3abad7883e94",
   "metadata": {},
   "source": [
    "Our results **seem** to point towards a consistent conclusion: \n",
    "\n",
    "- In Mini 2, we found evidence of a lower spindle rate post-treatment in 14/20 subjects.\n",
    "- In this Mini, we found so many very small p-values (less than 0.001) post-treatment.\n",
    "\n",
    "The PI is very excited with our progress, as these results upend the literature.\n",
    "\n",
    "The PI drafts the title for a high-impact paper:\n",
    "\n",
    "*“Post-Treatment Paradox: Clear Human Responses, Despite Absence of Treatment Effect\"*\n",
    "\n",
    "**But are we sure?**"
   ]
  },
  {
   "cell_type": "markdown",
   "id": "80d929d6-99ab-4e69-8fdb-6a5b011d23e1",
   "metadata": {},
   "source": [
    "<div class=\"alert alert-block alert-danger\">\n",
    "<b>Alert: Wait, I'm not so sure ... </b>\n",
    "\n",
    "</p>\n",
    "\n",
    "- Why is the word *seem* in bold?\n",
    "\n",
    "- Why did you ask me to review the characteristics of the data, and think about how this might impact the data?\n",
    "</div>"
   ]
  },
  {
   "cell_type": "markdown",
   "id": "6ccac4e8-fb87-4def-ba04-e6532e450a2f",
   "metadata": {},
   "source": [
    "<div class=\"alert alert-block alert-info\">\n",
    "\n",
    "*Moment of tension*:\n",
    "\n",
    "- Hook the learner - \"something isn't right and I want to know why.\"\n",
    "\n",
    "</div>"
   ]
  },
  {
   "cell_type": "markdown",
   "id": "d0964c13-f65c-4d5d-ac56-3bdfa56e1ae0",
   "metadata": {},
   "source": [
    "## 4- Not so fast: visualize, always."
   ]
  },
  {
   "cell_type": "markdown",
   "id": "c2f0fbb8-8057-46df-9e75-06dbc437ecec",
   "metadata": {},
   "source": [
    "We may have found an interesting result: a lower spindle rate post-treatment, but no effect during treatment.\n",
    "\n",
    "To do so, we analyzed and compare p-values, testing a specific null hypothesis.\n",
    "\n",
    "We've hinted above that something isn't right ... let's now dive in and identify where we went wrong."
   ]
  },
  {
   "cell_type": "markdown",
   "id": "9be90d0f-ca34-4a66-91c4-5336e038d84b",
   "metadata": {},
   "source": [
    "So far we've focused on the p-values. Let's plot those again:"
   ]
  },
  {
   "cell_type": "code",
   "execution_count": 12,
   "id": "7499ccc0-b925-4f97-bb69-8e236112523b",
   "metadata": {},
   "outputs": [
    {
     "data": {
      "image/png": "[encoded data removed]",
      "text/plain": [
       "<Figure size 1200x200 with 1 Axes>"
      ]
     },
     "metadata": {},
     "output_type": "display_data"
    }
   ],
   "source": [
    "# Plot the spiking from an example neuron.\n",
    "plt.figure(figsize=(12, 2))\n",
    "l1 = plt.semilogy(p_value_during, 'o')\n",
    "#plt.xlabel('Subject'); plt.ylabel('p value'); plt.title('During Treatment')\n",
    "#plt.figure(figsize=(12, 2))\n",
    "l2 = plt.semilogy(p_value_post, 'o')\n",
    "plt.axhline(y=0.05/20, color='k')\n",
    "plt.xticks(np.arange(0,20));\n",
    "plt.xlabel('Subject'); plt.ylabel('p value');\n",
    "plt.title('During Treatment (blue), Post-treatment (orange)');"
   ]
  },
  {
   "cell_type": "markdown",
   "id": "36fd7a41-8d19-4c68-ad9c-cf022d749c27",
   "metadata": {},
   "source": [
    "<div class=\"alert alert-block alert-success\">\n",
    "\n",
    "**Q:** For each subject, compare the p-values during treatment versus post-treatment. What do you observe?\n",
    "\n",
    "**A:** We oberve a post-treatment effect in many subjects (the p-value is small), but not during treatment (the p-value is big).\n",
    "\n",
    "</div>"
   ]
  },
  {
   "cell_type": "markdown",
   "id": "0821ee09-6f3e-491d-b4f7-d7c79829ef68",
   "metadata": {},
   "source": [
    "So far, we've used the spindle measurements to test a null hypothesis and compute p-values.\n",
    "\n",
    "Now, let's return to the spindle measurements and look at those values directly."
   ]
  },
  {
   "cell_type": "markdown",
   "id": "4204a56f-4f67-4adb-85fa-60a33723fe4e",
   "metadata": {},
   "source": [
    "<div class=\"alert alert-block alert-success\">\n",
    "\n",
    "**Q:** Given our analysis of the p-values, how do you expect the spindle measurements behave during treatment and post-treatment?\n",
    "\n",
    "**A:** \n",
    "- Because we do not find significnat p-values during treatment, I expect these values to appear near 0.\n",
    "- Because we do find significnt p-values post-treatment, I expect these values to differ from 0.\n",
    "\n",
    "</div>"
   ]
  },
  {
   "cell_type": "code",
   "execution_count": 13,
   "id": "68b366be-8767-4eae-8edb-91fc65898507",
   "metadata": {},
   "outputs": [
    {
     "data": {
      "image/png": "[encoded data removed]",
      "text/plain": [
       "<Figure size 1200x200 with 1 Axes>"
      ]
     },
     "metadata": {},
     "output_type": "display_data"
    }
   ],
   "source": [
    "# Plot the spiking from an example neuron.\n",
    "plt.figure(figsize=(12, 2))\n",
    "for k in np.arange(0,20):\n",
    "    plt.plot(np.tile(k,(30,1)), during_treatment[:,k], '.', color='r')\n",
    "for k in np.arange(0,20):\n",
    "    plt.plot(np.tile(k,(840,1))+0.25, post_treatment[:,k], '.', color='b')\n",
    "plt.axhline(y=0, color='k')\n",
    "#plt.plot(during_treatment);\n",
    "plt.xlabel('Subject'); plt.ylabel('p value'); plt.title('During Treatment (red), Post-Treatment (blue)'); #plt.ylim([0,1]);\n",
    "plt.xticks(np.arange(0,20));"
   ]
  },
  {
   "cell_type": "markdown",
   "id": "0fb9ecc9-ed71-4162-b3e3-e472aa534abb",
   "metadata": {},
   "source": [
    "<div class=\"alert alert-block alert-success\">\n",
    "\n",
    "**Q:** Looking at the plots of spindle measurements, what do you observe? More specifically:\n",
    "1. Do you observe an effect during treatment?\n",
    "2. Do you obesrve an effect post-treatment?\n",
    "3. Are these plots consistent with you p-value results?\n",
    "\n",
    "**A:** \n",
    "1. Yes, sort of ... the spindle measurements during treatment appear larger than post-treatment. How can that be if the p-values are big?\n",
    "2. Not really ... because we  find significnt p-values post-treatment, I expect these values to differ from 0. But I don't see that here ...\n",
    "3. Not really ... we concluded that there's an effect post-treamtnet, but not during treatment. However, these plots of spindle measurements aren't consistent with our conclusions.\n",
    "\n",
    "</div>"
   ]
  },
  {
   "cell_type": "markdown",
   "id": "a7f7cd2d-0d63-482c-9307-e277b5b7ea43",
   "metadata": {},
   "source": [
    "It's nice to visualize all of the data, but doing so can also be overwhelming.\n",
    "\n",
    "Let's summarize the spindle measurements in for each subject by ploting the [mean and the standard error of the mean](https://mark-kramer.github.io/Case-Studies-Python/02.html#cis-m1)."
   ]
  },
  {
   "cell_type": "code",
   "execution_count": 14,
   "id": "d38c27e8-6e14-4e4e-80f6-d39cb4248cff",
   "metadata": {},
   "outputs": [
    {
     "data": {
      "image/png": "[encoded data removed]",
      "text/plain": [
       "<Figure size 1200x200 with 1 Axes>"
      ]
     },
     "metadata": {},
     "output_type": "display_data"
    }
   ],
   "source": [
    "# Plot the spiking from an example neuron.\n",
    "plt.figure(figsize=(12, 2))\n",
    "for k in np.arange(0,20):\n",
    "    mn = np.mean(during_treatment[:,k]);\n",
    "    sd = np.std( during_treatment[:,k]);\n",
    "    K  = np.shape(during_treatment)[0];\n",
    "    plt.plot(k, mn, 'o', color='r')\n",
    "    plt.plot([k,k], [mn-2*sd/np.sqrt(K), mn+2*sd/np.sqrt(K)], color='r')\n",
    "for k in np.arange(0,20):\n",
    "    mn = np.mean(post_treatment[:,k]);\n",
    "    sd = np.std( post_treatment[:,k]);\n",
    "    K  = np.shape(post_treatment)[0];\n",
    "    plt.plot(k, mn, 'o', color='b')\n",
    "    plt.plot([k,k], [mn-2*sd/np.sqrt(K), mn+2*sd/np.sqrt(K)], color='b')\n",
    "plt.axhline(y=0, color='k')\n",
    "plt.xlabel('Subject'); plt.ylabel('p value'); plt.title('During Treatment (red), Post-Treatment (blue)');\n",
    "plt.xticks(np.arange(0,20));"
   ]
  },
  {
   "cell_type": "markdown",
   "id": "50a6b6ab-a437-4521-b44e-cd895b64f8c5",
   "metadata": {},
   "source": [
    "<div class=\"alert alert-block alert-success\">\n",
    "\n",
    "**Q:** Looking at the summary plots of spindle measurement means and standard error of the means for each subject, what do you observe? More specifically:\n",
    "1. Do you observe an effect during treatment?\n",
    "2. Do you obesrve an effect post-treatment?\n",
    "3. Are these plots consistent with you p-value results?\n",
    "\n",
    "**A:** \n",
    "1. Yes ... the spindle measurements during treatment appear larger than post-treatment. How can that be if the p-values are big during treatement?\n",
    "2. Not really ... because we find significnt p-values post-treatment, I expect these values to differ from 0. But I don't see that here ...\n",
    "3. Not really ... we concluded that there's an effect post-treamtnet, but not during treatment. However, these plots of spindle measurements aren't consistent with our conclusions.\n",
    "\n",
    "</div>"
   ]
  },
  {
   "cell_type": "markdown",
   "id": "28be9237-2ebc-4128-b6b1-5a28da447508",
   "metadata": {},
   "source": [
    "Let's summarize what we've found so far:\n",
    "\n",
    "- During treatment, p>0.05 (not significant), but mean spindle measurements > 0.\n",
    "- Post-treamtnet, p<<0.05  (signficiant), but mean spindle measurements $\\approx$ 0.\n",
    "\n",
    "Something's not adding up here ...\n",
    "\n",
    "- Why do the spindle values during treatment appear above 0, but p>0.05?\n",
    "- And, why are the post-treatment spindle measurements so small (near 0), but p<<0.05?\n",
    "\n",
    "Looking at the spindle rate plots, we observe: the mean spindle rate during treatment often exceeds the mean spindle rate post-treatment.\n",
    "\n",
    "That's the oppostive conclusion we made from the p-values!\n",
    "\n",
    "Hmm ... we better think carefully about the paper title ..."
   ]
  },
  {
   "cell_type": "markdown",
   "id": "bf593379-ed2c-485b-8ced-f62a0f26c31c",
   "metadata": {},
   "source": [
    "<div class=\"alert alert-block alert-info\">\n",
    "\n",
    "*Moment of tension*:\n",
    "\n",
    "- Post-treatment, the effect size is small but p<<0.05. How can this be?\n",
    "\n",
    "</div>"
   ]
  },
  {
   "cell_type": "markdown",
   "id": "e6cf4ddc-77bb-42bc-8c41-17d1fabebbec",
   "metadata": {},
   "source": [
    "## 5- A different test … a different result.\n"
   ]
  },
  {
   "cell_type": "markdown",
   "id": "19a18726-c789-43ff-9168-cf8829d2d904",
   "metadata": {},
   "source": [
    "Let's step back and consider a different null hypothesis:\n",
    "\n",
    "- no difference in mean spindle rate during treatment vs post-treatment.\n",
    "\n",
    "To test this null hypothesis, we'll apply a different test:\n",
    "\n",
    "- a subject specific two-sample t-test."
   ]
  },
  {
   "cell_type": "code",
   "execution_count": 15,
   "id": "a50f0566-35f6-4fda-965d-852a35714276",
   "metadata": {},
   "outputs": [
    {
     "name": "stdout",
     "output_type": "stream",
     "text": [
      "Subject  0 , p= 0.0919\n",
      "Subject  1 , p= 0.5414\n",
      "Subject  2 , p= 0.1548\n",
      "Subject  3 , p= 0.0004\n",
      "Subject  4 , p= 6.5035e-14\n",
      "Subject  5 , p= 0.0032\n",
      "Subject  6 , p= 2.7439e-11\n",
      "Subject  7 , p= 0.5422\n",
      "Subject  8 , p= 2.9371e-08\n",
      "Subject  9 , p= 0.0007\n",
      "Subject  10 , p= 2.4149e-09\n",
      "Subject  11 , p= 0.0002\n",
      "Subject  12 , p= 9.3549e-15\n",
      "Subject  13 , p= 9.3296e-05\n",
      "Subject  14 , p= 2.7431e-05\n",
      "Subject  15 , p= 0.3067\n",
      "Subject  16 , p= 0.0092\n",
      "Subject  17 , p= 0.0417\n",
      "Subject  18 , p= 1.0349e-08\n",
      "Subject  19 , p= 0.0018\n"
     ]
    }
   ],
   "source": [
    "result = stats.ttest_ind(during_treatment, post_treatment, alternative='greater')\n",
    "p_value_during_vs_post = result.pvalue\n",
    "for k in np.arange(0,20):\n",
    "    print('Subject ', k, ', p=', np.array2string(p_value_during_vs_post[k], precision=4))"
   ]
  },
  {
   "cell_type": "markdown",
   "id": "4aa7ad6d-967f-441e-a3cd-e9bf2c1e58d4",
   "metadata": {},
   "source": [
    "<div class=\"alert alert-block alert-success\">\n",
    "\n",
    "**Q:** Interpret these p-value results in terms of the null hypothesis.\n",
    "\n",
    "**A:** We conclude that, in most cases, we reject the null hypothesis of no difference in spindle rate. We conclude that the spindle rate is higher during treatment compared to post-treatment in most subjects.\n",
    "\n",
    "</div>"
   ]
  },
  {
   "cell_type": "markdown",
   "id": "caabe914-2443-42cc-a117-9c119d362fba",
   "metadata": {},
   "source": [
    "<div class=\"alert alert-block alert-success\">\n",
    "\n",
    "**Q:** Compare the results of these tests for each human to the results in Mini 2.\n",
    "\n",
    "**A:** In Mini 2, we computed 2 p-values for each subject (during and post-treatment). Now, we compute 1 p-value for each subject. These are different tests.\n",
    "\n",
    "</div>"
   ]
  },
  {
   "cell_type": "markdown",
   "id": "419b7c82-7c7b-4137-9b05-35028f325214",
   "metadata": {},
   "source": [
    "## 6- So, what went wrong?"
   ]
  },
  {
   "cell_type": "markdown",
   "id": "111637dd-5548-47d2-8ee2-de69648ec80f",
   "metadata": {},
   "source": [
    "(PENDING): effect size"
   ]
  },
  {
   "cell_type": "markdown",
   "id": "ed53c564-6a98-4a36-85a3-cc1d73e49a3d",
   "metadata": {},
   "source": [
    "## 7- One test to rule them all: an omnibus test."
   ]
  },
  {
   "cell_type": "markdown",
   "id": "9facf5a4-01e6-426a-b79d-74cf72395833",
   "metadata": {},
   "source": [
    "(PENDING)"
   ]
  },
  {
   "cell_type": "markdown",
   "id": "d853ac21-c67a-454c-b89b-827454f48e37",
   "metadata": {},
   "source": [
    "## 8- Beyond p-values: estimate what you care about.\n"
   ]
  },
  {
   "cell_type": "markdown",
   "id": "e9b8b16f-d7d3-46bc-b997-fdf824cd6ab8",
   "metadata": {},
   "source": [
    "(PENDING): estimate effect size during & post, and compare."
   ]
  },
  {
   "cell_type": "markdown",
   "id": "3d3cf0ec-8cac-49eb-8ded-cb5729e49c61",
   "metadata": {},
   "source": [
    "## 9- Summary"
   ]
  }
 ],
 "metadata": {
  "kernelspec": {
   "display_name": "Python 3 (ipykernel)",
   "language": "python",
   "name": "python3"
  },
  "language_info": {
   "codemirror_mode": {
    "name": "ipython",
    "version": 3
   },
   "file_extension": ".py",
   "mimetype": "text/x-python",
   "name": "python",
   "nbconvert_exporter": "python",
   "pygments_lexer": "ipython3",
   "version": "3.8.18"
  }
 },
 "nbformat": 4,
 "nbformat_minor": 5
}
