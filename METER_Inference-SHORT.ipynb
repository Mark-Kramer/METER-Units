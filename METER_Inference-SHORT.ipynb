{
 "cells": [
  {
   "cell_type": "markdown",
   "id": "4e6e7703-1b2d-440c-8c37-ae9b7b90c0c7",
   "metadata": {},
   "source": [
    "# Evaluate your evaluation methods! A key to meaningful inference."
   ]
  },
  {
   "cell_type": "markdown",
   "id": "a745e86c-3b53-4ddc-8d82-e3e2c3ab142f",
   "metadata": {},
   "source": [
    "<div class=\"alert alert-block alert-danger\">\n",
    "<b>Alert:</b> If you're running this on <b>Google Colab</b>, then uncomment and run the next two cells.\n",
    "</div>"
   ]
  },
  {
   "cell_type": "code",
   "execution_count": null,
   "id": "66d19678-5c22-4679-aad7-8cfb37ab20d6",
   "metadata": {},
   "outputs": [],
   "source": [
    "# !git clone https://github.com/Mark-Kramer/METER-Units.git"
   ]
  },
  {
   "cell_type": "code",
   "execution_count": null,
   "id": "f9740640-61d7-405d-b111-cd25d0f31b22",
   "metadata": {},
   "outputs": [],
   "source": [
    "# import sys\n",
    "# sys.path.insert(0,'/content/METER-Units')"
   ]
  },
  {
   "cell_type": "markdown",
   "id": "e8042e53-f883-4f97-9854-c8c1bcbd1d8b",
   "metadata": {},
   "source": [
    "---\n",
    "## 0 - Setup & Introduction"
   ]
  },
  {
   "cell_type": "code",
   "execution_count": null,
   "id": "69ac5161-05ea-4459-817c-de86221f90e7",
   "metadata": {},
   "outputs": [],
   "source": [
    "# Load modules\n",
    "import scipy.io as sio\n",
    "import numpy as np\n",
    "import matplotlib.pyplot as plt\n",
    "from scipy.stats import pearsonr\n",
    "import statsmodels.api as sm\n",
    "import plotly.graph_objects as go\n",
    "from IPython.lib.display import YouTubeVideo\n",
    "import ipywidgets as widgets\n",
    "from IPython.display import display, clear_output\n",
    "# Load custom functions\n",
    "from inference_functions import *"
   ]
  },
  {
   "cell_type": "code",
   "execution_count": null,
   "id": "064e6f67-e29d-4730-b718-c5d814a45eba",
   "metadata": {},
   "outputs": [],
   "source": [
    "YouTubeVideo('Jj2wmI9byCM')"
   ]
  },
  {
   "cell_type": "markdown",
   "id": "e2b75b97-a0c2-47cf-b0cd-e54a6a7c5a3a",
   "metadata": {},
   "source": [
    "<div class=\"alert alert-block alert-info\">\n",
    "\n",
    "*Introduction*:\n",
    "\n",
    "- If you’re starting this unit, you’re probably a scientist trying to make sense of complicated data.\n",
    "- That’s exactly the goal of this unit: to teach you an approach to make inferences from noisy data.\n",
    "- We’ll do so using data from a specific example, and to make an inference with a standard approach, we’ll build a model by fitting a line.\n",
    "- We’ll then interpret the results, introduce a visual approach to test the goodness of fit of our model, and use it to improve our model and ultimately the inferences we make from the data.\n",
    "\n",
    "</div>"
   ]
  },
  {
   "cell_type": "markdown",
   "id": "6cbe9c30-5be1-4bed-be53-33a0840e7793",
   "metadata": {},
   "source": [
    "---\n",
    "## 1. The data: swim lessons versus drownings."
   ]
  },
  {
   "cell_type": "code",
   "execution_count": null,
   "id": "2b0da80d-6951-4cc7-870b-cffcd010b5d2",
   "metadata": {},
   "outputs": [],
   "source": [
    "YouTubeVideo('AY9pBDo93dc')"
   ]
  },
  {
   "cell_type": "markdown",
   "id": "7b39f0b8-8925-4c14-8750-a653f315cedb",
   "metadata": {},
   "source": [
    "You receive data from a community organization interested in understanding the impact of swimming lessons on swim safety. The data consist of the following information from in `N = 299` communities:\n",
    "\n",
    "* `swim_lessons` - the number of swim lessons in a community,\n",
    "\n",
    "* `drownings`   - the number of drownings (per 100,000 individuals) in a community,\n",
    "\n",
    "* `xy` - the geographic location (latitude and longitude) of the community,"
   ]
  },
  {
   "cell_type": "code",
   "execution_count": null,
   "id": "080a633b-6071-4867-b83c-94311311bc7f",
   "metadata": {},
   "outputs": [],
   "source": [
    "swim_lessons, drownings, xy = load_data()"
   ]
  },
  {
   "cell_type": "markdown",
   "id": "b9c78347-4e63-4c15-a016-614afa5c5c6c",
   "metadata": {},
   "source": [
    "We're interested in understanding the relationship (if any) between `swim_lessons` and `drownings`.\n",
    "\n",
    "Let's start by plotting the data."
   ]
  },
  {
   "cell_type": "code",
   "execution_count": null,
   "id": "bfca4a71-beee-44b7-b1e3-bf1158bb93ea",
   "metadata": {},
   "outputs": [],
   "source": [
    "# Plot the data.\n",
    "plt.figure(figsize=(12, 8))\n",
    "plt.scatter(swim_lessons, drownings)\n",
    "plt.xlabel('Swim Lessons')\n",
    "plt.ylabel('Drownings');"
   ]
  },
  {
   "cell_type": "markdown",
   "id": "3aea9c5d-3d71-450a-8015-93314891f1ac",
   "metadata": {},
   "source": [
    "<div class=\"alert alert-block alert-success\">\n",
    "\n",
    "**Q:** What do you observe?\n",
    "\n",
    "**A:**\n",
    "\n",
    "- *The drowning values are \"squished\" near 0, with fewer observations at larger values.*\n",
    "- *At first glance, the number of drownings appears to increase with the number of swim lessons ... that's confusing.*\n",
    "\n",
    "</div>"
   ]
  },
  {
   "cell_type": "markdown",
   "id": "5a54d731-5f6c-47a5-ae2f-56abba5a4a50",
   "metadata": {},
   "source": [
    "For reference (and maybe for future use ...) let's also plot the geographic location of each community."
   ]
  },
  {
   "cell_type": "code",
   "execution_count": null,
   "id": "68b4700d-a29a-4ff2-868e-54d82eca77e5",
   "metadata": {},
   "outputs": [],
   "source": [
    "plot_spatial_coordinates(xy, 0)"
   ]
  },
  {
   "cell_type": "markdown",
   "id": "684e6d26-43be-4feb-8ce5-a7316abf8026",
   "metadata": {},
   "source": [
    "<div class=\"alert alert-block alert-success\">\n",
    "\n",
    "**Q:** What do you observe?\n",
    "\n",
    "**A:**\n",
    "\n",
    "- *The communities vary in spatial location, with a high concentration at a point near the ocean.*\n",
    "    \n",
    "</div>"
   ]
  },
  {
   "cell_type": "markdown",
   "id": "50d5779c-eeef-4acd-bbc7-f6c41e1c758d",
   "metadata": {},
   "source": [
    "---\n",
    "## 2. Make an inference: how do more swim lessons relate to drownings?"
   ]
  },
  {
   "cell_type": "code",
   "execution_count": null,
   "id": "9ea49814-d3c1-4331-91a8-440bd6dfcd40",
   "metadata": {},
   "outputs": [],
   "source": [
    "YouTubeVideo('_2s_JpwqdKg')"
   ]
  },
  {
   "cell_type": "markdown",
   "id": "8442e6ef-537c-4cfc-b905-715ddff0bea4",
   "metadata": {},
   "source": [
    "Now, let's make an **inference** (i.e., draw a scientific conclusion) from these data.\n",
    "\n",
    "In general, our goal is to infer from the noisy data a meaningful feature that's simpler than the data itself.\n",
    "\n",
    "There are many ways to do so.\n",
    "\n",
    "Here, we'd like to understand if there's a relationship between `swim_lessons` and `drownings`.\n",
    "\n",
    "To do so, let's **fit a line** to the data.\n",
    "\n",
    "The slope of the line provides an estimate of the relationship between the number of `drowings` and `swim_lessons`."
   ]
  },
  {
   "cell_type": "code",
   "execution_count": null,
   "id": "7177eb10-9087-45d2-9335-2fe2d942d4b2",
   "metadata": {},
   "outputs": [],
   "source": [
    "create_dropdown_estimate_regression(swim_lessons, drownings)"
   ]
  },
  {
   "cell_type": "markdown",
   "id": "7bb81968-3f34-41cf-91d4-cd04188ef431",
   "metadata": {},
   "source": [
    "<div class=\"alert alert-block alert-success\">\n",
    "\n",
    "**Q:** Interpert the slope and p-value ... what do these two values tell us?\n",
    "\n",
    "**A:** \n",
    "\n",
    "- *The p-value is **small**: we find a highly significant (p<<0.05) positive, relationship between swim lessons and drownings.*\n",
    "- *The slope (effect size) is **small**: does that mean it's not important? We're fitting an equation for a line:*\n",
    "\n",
    "`drownings = slope_estimate * swim_lessons`\n",
    "\n",
    "or\n",
    "\n",
    "`drownings = 0.00138 * swim_lessons`\n",
    "\n",
    "*Now, consider what happens if the number of swim lessons increases by 1. Then, according to our fit model, the number of drownings increases by*\n",
    "\n",
    "`drownings = 0.00138 * 1 = 0.00138`\n",
    "\n",
    "*That's a small increase, in both the number of swim lessons and number of drownings.*\n",
    "\n",
    "*Alternately, consider what happens if the number of swim lessons increases by 1000. Then, plugging into our model, we find the number of drownings increases by*\n",
    "\n",
    "`drownings = 0.00138 * 1000 = 1.38`\n",
    "\n",
    "*That's perhaps a more interpertable result; a community making a policy decision to promote more swim lessons (e.g., through subsidies) might expect 1 more drowning.*\n",
    "\n",
    "*In this way, we can always interpert the results of a model. It's often useful to plug in values, and see what happens.*\n",
    "</div>"
   ]
  },
  {
   "cell_type": "markdown",
   "id": "79a18408-d5a6-4bb8-923e-7bb16c6a177a",
   "metadata": {},
   "source": [
    "---\n",
    "Let's also **visualize** the estimated line by plotting it with the data."
   ]
  },
  {
   "cell_type": "code",
   "execution_count": null,
   "id": "1ec34ef5-29e8-4b84-ae9e-7224db10a6f0",
   "metadata": {},
   "outputs": [],
   "source": [
    "create_dropdown_plot_regression(swim_lessons, drownings)"
   ]
  },
  {
   "cell_type": "markdown",
   "id": "ae63d131-9ba1-4ed1-9277-baf8dae069c3",
   "metadata": {},
   "source": [
    "<div class=\"alert alert-block alert-success\">\n",
    "\n",
    "**Q:** Again, interpert the results of your estimation ... what does this mean?\n",
    "\n",
    "**A:**\n",
    "\n",
    "- *Nothing looks terribly wrong ... there's a line with a confidence interval that seems to fit the data.*\n",
    "\n",
    "</div>"
   ]
  },
  {
   "cell_type": "markdown",
   "id": "3adf8d11-59ee-441f-af02-fd8b1ee3c2c0",
   "metadata": {},
   "source": [
    "<div class=\"alert alert-block alert-danger\">\n",
    "\n",
    "**Discussion:**\n",
    "\n",
    "</p>\n",
    "\n",
    "We've applied a standard analysis approach and found a (highly) significant result, certainly a result passable for peer-reviewed publication.\n",
    "\n",
    "**Q:** So what's our next step?\n",
    "\n",
    "**CENTER generated Button: I'm ready to publish!**\n",
    "- *Discussion*: That's a reasonable conclusion, based on the evidence we've looked at so far. However, our conclusion is controversial: to reduce drownings, reduce the number of swim lessons. Before we pursue publication and recommend this policy, let's investigate one important aspect of our inference - how well our model (the line) fits the data. A good fit to the data inspires confidence in our inference. Alternatively, a poor fit provides us motivation to continue developing our model.\n",
    "\n",
    "**CENTER generate Button: I'm not sure yet!**\n",
    "- *Discussion*: I'm glad you're not sure. Neither am I. Our results suggest a controverisal conclusion: to reduce drownings, reduce the number of swim lessons. To make this conclusion, we fit a line to the data. But, is this line a good model of the data? If so, that inspires confidence in our result. However, if the model (a line) is not a good representation of the data, then we might question the result. Continue on to the next Mini to learn a strategey to answer this question.\n",
    "</div>"
   ]
  },
  {
   "cell_type": "markdown",
   "id": "5c6d4666-deb2-4e8d-887e-91dbc391ad5b",
   "metadata": {},
   "source": [
    "---\n",
    "## 3. Something’s not right … evaluate your evaluation method."
   ]
  },
  {
   "cell_type": "code",
   "execution_count": null,
   "id": "083b5ad9-e010-40c0-a1d1-d3826b498088",
   "metadata": {},
   "outputs": [],
   "source": [
    "YouTubeVideo('ei83locyWZw')"
   ]
  },
  {
   "cell_type": "markdown",
   "id": "5d9bcaad-387b-44d3-bb26-856398835d87",
   "metadata": {},
   "source": [
    "To look for a relationship between `swim_lessons` and `drownings`, we chose a particular model of the relationship - we fit a line to the data. But, was this a good choice?\n",
    "\n",
    "An important step in any analysis is to **check our model**.\n",
    "\n",
    "To do so, let's look at the difference between the estimated drownings from the line and the actual values for `drownings`, i.e., let's look at the **residuals**.\n",
    "\n",
    "If the\n",
    "model is a good fit to the data, then we expect a patternless set of residuals (i.e., the residuals are \"just noise\" around our good model fit to the data).\n",
    "\n",
    "Alternatively, if we find patterns in the residuals, we might wonder about our model choice, and consider strategies to improve our model.\n",
    "\n",
    "To start let's plot the model errors (i.e., the residuals)..."
   ]
  },
  {
   "cell_type": "code",
   "execution_count": null,
   "id": "d9107c7c-5216-46cf-b8b6-5615181e7ab0",
   "metadata": {},
   "outputs": [],
   "source": [
    "residuals = compute_residuals_2d(swim_lessons, drownings)\n",
    "plt.figure(figsize=(12, 8))\n",
    "plt.plot(residuals, '*')\n",
    "plt.xlabel('Index')\n",
    "plt.ylabel('Residuals');"
   ]
  },
  {
   "cell_type": "markdown",
   "id": "78cfac8a-9331-42d5-afaf-98c3ec246ff3",
   "metadata": {},
   "source": [
    "<div class=\"alert alert-block alert-success\">\n",
    "\n",
    "**Q:** What do you see in the residuals ... do you see any patterns?\n",
    "\n",
    "**A:**\n",
    "\n",
    "- *At first glance, these residuals look mostly patternless ...*\n",
    "\n",
    "</div>"
   ]
  },
  {
   "cell_type": "markdown",
   "id": "12de482d-1ac9-408c-b351-031ef0da8382",
   "metadata": {},
   "source": [
    "<div class=\"alert alert-block alert-danger\">\n",
    "\n",
    "In the plot above, no systematic patterns are obvious; instead, the residuals appear to fluctuate around 0.\n",
    "\n",
    "That means our model is all good, right?\n",
    "\n",
    "NO! This visualization of the residuals is *not* very informative; the horizontal axis (the variable `index`) is arbitrary.\n",
    "\n",
    "</div>"
   ]
  },
  {
   "cell_type": "markdown",
   "id": "9503d991-ce1f-4699-843d-de48b051b88d",
   "metadata": {},
   "source": [
    "To observe systematic patterns in the residuals, let's plot the `residuals` versus the predictor in our model: the number of `swim_lessons`."
   ]
  },
  {
   "cell_type": "code",
   "execution_count": null,
   "id": "8e050db0-070a-4ae9-b90e-a8705dabd7c0",
   "metadata": {},
   "outputs": [],
   "source": [
    "plt.figure(figsize=(12, 8))\n",
    "plt.scatter(swim_lessons, residuals)\n",
    "plt.xlabel('Number of swim lessons')\n",
    "plt.ylabel('Model residuals');"
   ]
  },
  {
   "cell_type": "markdown",
   "id": "1abcc486-d67d-4e4f-8ed0-22ce9e0aca70",
   "metadata": {},
   "source": [
    "<div class=\"alert alert-block alert-success\">\n",
    "\n",
    "**Q:** Now, do the residuals look patternless? What patterns do you see?\n",
    "\n",
    "**A:**\n",
    "\n",
    "*Our inspection of `residuals` versus `swim_lessons` reveals two clear patterns:*\n",
    "\n",
    "- *as `swim_lessons` increases, a systematic decrease in the `residuals`,*\n",
    "- *as `swim_lessons` increases, the variability of the `residuals` tends to increase.*\n",
    "\n",
    "*We conclude from this **model check** that something isn't right ... our model doesn't adequately describe features in the data.*\n",
    "\n",
    "</div>"
   ]
  },
  {
   "cell_type": "markdown",
   "id": "09c0862e-7448-4561-883d-3d4ca8f6c41e",
   "metadata": {},
   "source": [
    "<div class=\"alert alert-block alert-success\">\n",
    "\n",
    "**Q:** We've plotted the `residuals` versus the predictor `swim_lessons`, but we could also plot\n",
    "    `residuals` versus the outcome variable `drownings`. Doing so, what do you see?\n",
    "\n",
    "**A:**\n",
    "\n",
    "</div>"
   ]
  },
  {
   "cell_type": "markdown",
   "id": "ee6e20db-5dc6-4649-97bb-0295d0bebc38",
   "metadata": {},
   "source": [
    "So far, we've investigated how the `residuals` vary with the predictor `swim_lessons` or outcome `drownings`.\n",
    "\n",
    "But, we have more information: we also have the geographic location (latitude and longitude) of each community in the study.\n",
    "\n",
    "Let's investigate how the `residuals` relate to the geographic location of the community."
   ]
  },
  {
   "cell_type": "code",
   "execution_count": null,
   "id": "53a6cbc4-c2d4-445a-b8fc-8e8e15c593a9",
   "metadata": {},
   "outputs": [],
   "source": [
    "plot_spatial_coordinates(xy, residuals.to_numpy())"
   ]
  },
  {
   "cell_type": "markdown",
   "id": "ab94eebe-e70a-4dec-b256-52b3e84d924f",
   "metadata": {},
   "source": [
    "<div class=\"alert alert-block alert-success\">\n",
    "\n",
    "**Q:** Do the residuals look patternless? Do you see any patterns in the residuals that depend on location?\n",
    "\n",
    "**A:**\n",
    "\n",
    "- *The residuals appear to vary with geographic location. Nearer to the ocean, the residuals tend to be more positive (darker blue colors).*\n",
    "    \n",
    "</div>"
   ]
  },
  {
   "cell_type": "markdown",
   "id": "9ae33d4d-0c1d-4df9-bacf-909943cff32c",
   "metadata": {},
   "source": [
    "Our analysis of the residuals suggests an important result: **our model fit is no good**.\n",
    "\n",
    "This is a very useful result.\n",
    "\n",
    "Our initial inference from the data was very confusing: more swim lessons correlate (significantly!) with more drownings.\n",
    "\n",
    "But this initial inference is based on a model - the line - that's no good.\n",
    "\n",
    "Our next step is to improve the model, and thereby improve the inferences we make from the data."
   ]
  },
  {
   "cell_type": "markdown",
   "id": "911cf31f-3f5e-445f-b56e-477cb3770fce",
   "metadata": {},
   "source": [
    "---\n",
    "## 4. Improve your scientific conclusions by improving your inference strategy."
   ]
  },
  {
   "cell_type": "code",
   "execution_count": null,
   "id": "8d09802d-993f-4d25-a95c-fb03edd46bad",
   "metadata": {},
   "outputs": [],
   "source": [
    "YouTubeVideo('XvIz0kPdZoE')"
   ]
  },
  {
   "cell_type": "markdown",
   "id": "ee7efe4f-6735-4322-8342-7d4236825121",
   "metadata": {},
   "source": [
    "<div class=\"alert alert-block alert-danger\">\n",
    "Our results so far are not encouraging.\n",
    "\n",
    "</p>\n",
    "\n",
    "We're finding a significant, positive relationship between `swim_lessons` and `drownings`\n",
    "\n",
    "(i.e., with *more* swim lessons there are *more* drownings).\n",
    "\n",
    "How can this be?\n",
    "</div>"
   ]
  },
  {
   "cell_type": "markdown",
   "id": "ed79e759-8493-42ef-b42a-3c8fff8dabac",
   "metadata": {},
   "source": [
    "By performing our **model check**, we found patterns in the model errors (i.e., in the `residuals`).\n",
    "\n",
    "In particular, we noticed a spatial pattern in the residuals:\n",
    "- positive residuals near the coast,\n",
    "- negative resiudals away from the coast.\n",
    "\n",
    "This pattern in the residuals suggests our model is missing an important factor."
   ]
  },
  {
   "cell_type": "markdown",
   "id": "f9bd8846-5f84-4a65-8c41-03a027dfee1f",
   "metadata": {},
   "source": [
    "<div class=\"alert alert-block alert-success\">\n",
    "\n",
    "**Q:** What is missing from the model?\n",
    "\n",
    "**A:**\n",
    "\n",
    "- *Many things could be missing, including the age of individuals in the community, the time of year in which the data were collected, issues with the sampling of data. The goal of a model is not to capture every possible cause. Instead, the goal of the model is to develop a simple, but useful, description of the model. In the words of [George Box](https://en.wikipedia.org/wiki/All_models_are_wrong): \"All models are wrong, but some are useful.\"*\n",
    "- *We showed in the previous Minis another peice of information: the geographic location of each community. How might this impact the number of drownings?*\n",
    "\n",
    "</div>"
   ]
  },
  {
   "cell_type": "markdown",
   "id": "54a9c5e8-9176-421d-b1fd-5bed0c93469b",
   "metadata": {},
   "source": [
    "The pattern in the residuls suggests we model `drownings` with two predictors\n",
    "\n",
    "1. The number of swim lessons (`swim_lessons`), and\n",
    "2. The distance from the ocean (`distance_from_ocean`).\n",
    "\n",
    "To do so, let's fit a \"2-dimensional line\" (i.e., a plane) to the data."
   ]
  },
  {
   "cell_type": "code",
   "execution_count": null,
   "id": "46e61762-51fe-4e6a-b438-78e62ab60156",
   "metadata": {},
   "outputs": [],
   "source": [
    "# Load the additional variable,\n",
    "distance_from_ocean = load_more_data()"
   ]
  },
  {
   "cell_type": "code",
   "execution_count": null,
   "id": "a14a1f24-564e-4b35-8953-c04ed68add89",
   "metadata": {},
   "outputs": [],
   "source": [
    "create_dropdown_estimate_regression_3(swim_lessons, drownings, distance_from_ocean)"
   ]
  },
  {
   "cell_type": "markdown",
   "id": "9549390a-d7b2-4f46-b5da-8d1830c4a775",
   "metadata": {},
   "source": [
    "<div class=\"alert alert-block alert-success\">\n",
    "\n",
    "**Q:** Interpert the slope and p-value ... what do these 4 values tell us?\n",
    "\n",
    "**A:**\n",
    "\n",
    "- *We now have two results to interpret.*\n",
    "- *First, we find a significant negative relationship between `drownings` and `distance_from_ocean`. In other words, the further from the ocean, the lower the number of drownings. That makes intuitive sense.*\n",
    "- *Second, we find a weak (not significant) negative relationship between the `drownings` and the number of `swim_lessons`. While not significant, this negative relationship is consistent with our expectations: the more swim lessons, the fewer drownings.*\n",
    "\n",
    "</div>"
   ]
  },
  {
   "cell_type": "markdown",
   "id": "5ab174a5-e720-49b4-9f50-4912e8f99fd2",
   "metadata": {},
   "source": [
    "We can visualize our model, which is now the 2-dimensional plane:\n"
   ]
  },
  {
   "cell_type": "code",
   "execution_count": null,
   "id": "393deabd-749a-4076-91b8-d1f725a13695",
   "metadata": {
    "scrolled": true
   },
   "outputs": [],
   "source": [
    "plot_regression_results_3d(swim_lessons, drownings, distance_from_ocean)"
   ]
  },
  {
   "cell_type": "markdown",
   "id": "1328012c-408a-46e8-975a-ec88aaf12ad4",
   "metadata": {},
   "source": [
    "<div class=\"alert alert-block alert-success\">\n",
    "\n",
    "**Q:** Examine the model fit ... you'll probably need to rotate the plot. What do you see?\n",
    "\n",
    "**A:**\n",
    "\n",
    "- *The model fit is a 2-dimeonsional plane that slices through the data.*\n",
    "- *The model fit is tilted so that, as the number of swim lessons or distance from ocean increaes, the number of drownings decreases.*\n",
    "- *The model fit is not perfect. All of the points do not lie on the plane. But we never expect our model to be perfect. Instead, we're searching for a relatively simple model that's informative and a captures some aspects of the data.*\n",
    "\n",
    "</div>"
   ]
  },
  {
   "cell_type": "markdown",
   "id": "34302084-3985-4238-a4a5-592402c94f2c",
   "metadata": {},
   "source": [
    "Let's **model check** the new model.\n",
    "\n",
    "To do so, let's plot the new model errors (i.e., the `residuals`) versus a predictor in our model (here, the number of `swim_lessons`)."
   ]
  },
  {
   "cell_type": "markdown",
   "id": "242f0841-74e1-4fd8-b692-e9e13f5b965f",
   "metadata": {},
   "source": [
    "residuals = compute_residuals_3d(swim_lessons, drownings, distance_from_ocean)\n",
    "plt.figure(figsize=(12, 8))\n",
    "plt.scatter(swim_lessons, residuals)\n",
    "plt.xlabel('Number of swim lessons')\n",
    "plt.ylabel('Model residuals');"
   ]
  },
  {
   "cell_type": "markdown",
   "id": "4c9a523b-6294-4479-9d28-3a2cccba1afe",
   "metadata": {},
   "source": [
    "<div class=\"alert alert-block alert-success\">\n",
    "\n",
    "**Q:** Wait, I thought this was a 2-dimensional model. Why are the residuals only 1-dimensional?\n",
    "\n",
    "**A:**\n",
    "\n",
    "- *The residuals are the difference between the observed number of drownings (`drowning`) and the predicted number of drowning by the model. Both of these quantities are 1-dimensional. It's the input to the model (i.e., the number of model predictors) `swim_lessons` and `distance_from_ocean` that is 2-dimensional.*\n",
    "    \n",
    "</div>"
   ]
  },
  {
   "cell_type": "markdown",
   "id": "e6414d08-43e3-43d2-8828-4794d65d35ca",
   "metadata": {},
   "source": [
    "<div class=\"alert alert-block alert-success\">\n",
    "\n",
    "**Q:** Do the residuals look less patterned (compared to our original line fit)? Do you still see any patterns?\n",
    "\n",
    "**A:**\n",
    "\n",
    "*In this new model, our inspection of `residuals` versus `swim_lessons` reveals*\n",
    "\n",
    "- *as `swim_lessons` increases, *no* systematic trend in the `residuals`,*\n",
    "- *as `swim_lessons` increases, the variability of the `residuals` tends to increase.*\n",
    "\n",
    "*This is a nice improvement compared to our original model. Including the additional variable has reduced a systematic trend in the residuals*.    \n",
    "</div>"
   ]
  },
  {
   "cell_type": "markdown",
   "id": "a0efd641-02bc-4f06-861c-792f83ce246e",
   "metadata": {},
   "source": [
    "Let's also plot the `residuals` of the new model versus the geographic location."
   ]
  },
  {
   "cell_type": "code",
   "execution_count": null,
   "id": "c65f6d06-f384-4f1b-8af6-b6a785fd348c",
   "metadata": {},
   "outputs": [],
   "source": [
    "plot_spatial_coordinates(xy, residuals.to_numpy())"
   ]
  },
  {
   "cell_type": "markdown",
   "id": "48bb234b-e360-4cf6-9f51-d265a5fa5770",
   "metadata": {},
   "source": [
    "<div class=\"alert alert-block alert-success\">\n",
    "\n",
    "**Q:** Do the residuals look patternless? Do you see any patterns in the residuals that depend on location?\n",
    "\n",
    "**A:**\n",
    "\n",
    "- *The residuals appear to vary less with geographic location. Notice we now observe positive residuals (darker blue colors) both near the ocean and far from the ocean. This is a good improvement compared to our original model.*\n",
    "    \n",
    "</div>"
   ]
  },
  {
   "cell_type": "markdown",
   "id": "9d4f3b8d-6883-4ecb-8c9f-0c63e4f302a9",
   "metadata": {},
   "source": [
    "We've now made progress improving our model! Our initial model produced a significant - but nonsensical - result: as swim lessons increase, so do the number of drownings. Investigating this model residuals revealed a poor model fit. We improved our model by adding another predictor - the distance to the ocean. Doing so changed our results dramatically: we now find a (weak) relationship between increasing swim lessons and decreasing drownings. However, our evidence for this relationship is not convincing (the p-value is large). We'll show in other units that continued model refinement can further strengthen this result. If you're interetsed, check out the other Minis associated with this Unit.\n",
    "\n",
    "To conclude, we made inferences from noisy data by buidling a model. But estimating the model and interperting the results is not enough! We must also check our model; we did so here by plotting the residuals. "
   ]
  }
 ],
 "metadata": {
  "kernelspec": {
   "display_name": "Python 3 (ipykernel)",
   "language": "python",
   "name": "python3"
  },
  "language_info": {
   "codemirror_mode": {
    "name": "ipython",
    "version": 3
   },
   "file_extension": ".py",
   "mimetype": "text/x-python",
   "name": "python",
   "nbconvert_exporter": "python",
   "pygments_lexer": "ipython3",
   "version": "3.8.18"
  }
 },
 "nbformat": 4,
 "nbformat_minor": 5
}
