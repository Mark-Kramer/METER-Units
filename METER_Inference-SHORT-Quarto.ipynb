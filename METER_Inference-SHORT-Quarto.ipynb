{
 "cells": [
  {
   "cell_type": "markdown",
   "id": "4d325251-b0b2-455e-a741-8027cc5c4564",
   "metadata": {},
   "source": [
    "---\n",
    "title: Evaluate your evaluation methods! A key to meaningful inference.\n",
    "project:\n",
    "  type: website\n",
    "format:\n",
    "  html:\n",
    "    code-fold: true\n",
    "    code-tools: true\n",
    "jupyter: python 3\n",
    "number-sections: false\n",
    "filters:\n",
    "    - pyodide\n",
    "---"
   ]
  },
  {
   "cell_type": "markdown",
   "id": "e8042e53-f883-4f97-9854-c8c1bcbd1d8b",
   "metadata": {},
   "source": [
    "# 1. Introduction"
   ]
  },
  {
   "cell_type": "markdown",
   "id": "1bf45f92-3863-4ef0-8006-04eccf6b1495",
   "metadata": {},
   "source": [
    "### What is Inference?\n",
    "\n",
    "Inference is a fundamental concept in both everyday life and scientific investigation. It is the process of drawing conclusions based on evidence and reasoning. Inference allows us to make predictions, understand relationships, and gain insights from data and observations.\n",
    "\n",
    "### Why is Inference Important?\n",
    "\n",
    "- **Decision-Making**: Inference helps us make informed decisions. Whether you're deciding what to wear based on the weather forecast or determining the best strategy for your experiment, inference plays a crucial role in evaluating options and outcomes.\n",
    "\n",
    "- **Understanding Brain Function**: Inference helps neuroscientists draw conclusions about brain activity from experimental data, bridging the gap between observed neural signals and underlying brain processes.\n",
    "\n",
    "- **Clinical Applications**: Inference is essential for diagnosing and treating neurological disorders. By analyzing patient data, clinicians can infer the underlying causes of symptoms and tailor treatments accordingly.\n",
    "\n",
    "### Everyday Examples of Inference\n",
    "\n",
    "- **Weather Predictions**: Meteorologists use data from satellites, weather stations, and historical patterns to infer future weather conditions. This helps us prepare for what’s coming, whether it's bringing an umbrella or planning for a sunny day.\n",
    "\n",
    "- **Medical Diagnoses**: Doctors use symptoms, medical history, and test results to infer the most likely cause of a patient's condition. This process is critical in providing accurate diagnoses and effective treatments.\n",
    "\n",
    "- **Electrophysiology**: Recording electrical activity from neurons allows researchers to infer the roles of specific neurons or networks in processing information.\n",
    "\n",
    "- **Behavioral Studies**: By observing behavior in response to stimuli, neuroscientists infer the neural mechanisms underlying perception, decision-making, and learning.\n",
    "\n",
    "### So, what is Inference?\n",
    "\n",
    "- Here, we focus on **statistical inference** - using data from a sample to make inferences about a population. We will learn to apply statistical inference in this Unit.\n",
    "\n",
    "### Inference Skills To Develop\n",
    "\n",
    "- **Ask Questions**: Cultivate curiosity by asking questions about the world around you. Why did something happen? What might influence this happening? Asking questions leads to deeper understanding and better inference skills.\n",
    "\n",
    "- **Gather Evidence**: Collect relevant information and data. The more evidence you have, the stronger your inferences will be. Evaluate the quality and reliability of your sources. We can arrive at better conclusions through better data collection.\n",
    "\n",
    "- **Think Critically**: Analyze the evidence and consider multiple perspectives. Avoid jumping to conclusions without thorough examination. Critical thinking helps in making sound inferences.\n",
    "\n",
    "### What's next?\n",
    "\n",
    "- In this Unit, we will practice making inferences from from noisy data.\n",
    "  \n",
    "- To do so, we will use data from a specific example. We will build models from these data to make inferences about a population (i.e., statistical inference).\n",
    "\n",
    "- We will think critically about our inference results, ask questions about the interpretation (i.e., check our model), and update our model to improve the inferences we make from the data."
   ]
  },
  {
   "cell_type": "markdown",
   "id": "6cbe9c30-5be1-4bed-be53-33a0840e7793",
   "metadata": {},
   "source": [
    "# 2. The data: swim lessons versus drownings."
   ]
  },
  {
   "cell_type": "markdown",
   "id": "7b39f0b8-8925-4c14-8750-a653f315cedb",
   "metadata": {},
   "source": [
    "You receive data from a community organization interested in understanding the impact of swimming lessons on swim safety. The data consist of the following information from in `N = 299` communities:\n",
    "\n",
    "- `swim_lessons` - the number of swim lessons in a community,\n",
    "\n",
    "- `drownings`   - the number of drownings (per 100,000 individuals) in a community,\n",
    "\n",
    "- `x`, `y` - the geographic location (latitude and longitude) of the community,"
   ]
  },
  {
   "cell_type": "markdown",
   "id": "34e5bf23-d4f0-4d47-828b-7ad1d3b0577e",
   "metadata": {},
   "source": [
    "```{pyodide-python}\n",
    "# Load modules\n",
    "import numpy as np\n",
    "import matplotlib.pyplot as plt\n",
    "from scipy.stats import pearsonr\n",
    "import statsmodels.api as sm\n",
    "#await micropip.install(\"cartopy\")\n",
    "import cartopy.crs as ccrs\n",
    "import cartopy.feature as cfeature\n",
    "# Load custom functions\n",
    "import requests\n",
    "url = \"https://raw.githubusercontent.com/Mark-Kramer/METER-Units/refs/heads/main/inference_functions-SHORT.py\"\n",
    "response = requests.get(url)\n",
    "exec(response.text)\n",
    "\n",
    "swim_lessons, drownings, x,y = load_data()\n",
    "```"
   ]
  },
  {
   "cell_type": "markdown",
   "id": "8e502097-7d84-4bbc-9c37-2a659feecb9b",
   "metadata": {},
   "source": [
    "We're interested in inferring the relationship (if any) between `swim_lessons` and `drownings`."
   ]
  },
  {
   "cell_type": "markdown",
   "id": "4ad63fcb-5477-43d2-b736-56c6852e58c3",
   "metadata": {},
   "source": [
    "::: {.callout-note}\n",
    "## What relationship do you expect to observe between `swim_lessons` and `drownings`?\n",
    "\n",
    "**A:** (Multiple Choice)\n",
    "\n",
    "- (Correct) I expect drownings to *decrease* as the number of swim lessons increases.\n",
    "\n",
    "- (Incorrect) I expect drownings to *increase* as the number of swim lessons increases.\n",
    "\n",
    "\n",
    ":::"
   ]
  },
  {
   "cell_type": "markdown",
   "id": "7237ec2a-9689-4b2b-a6d0-9f8ebc340b34",
   "metadata": {},
   "source": [
    "A very reasonable expectation is that:\n",
    "\n",
    "- **Expectation:** Drownings *decrease* as the number of swim lessons increase.\n",
    "\n",
    "That's a fine statement. \n",
    "\n",
    "However, we'd like to go beyond this qualitative expecation and put some numbers to it.\n",
    "\n",
    "For example, does increasing swim lessons in a community by 1000 (e.g., by providing free programs, by promotion through advertising) reduce the number of drownings by 1, by 10, by 100?\n",
    "\n",
    "In what follows, we'll infer this relationship from the data.\n",
    "\n",
    "But before we begin our inference procedure, let's start by **visualizing the data**."
   ]
  },
  {
   "cell_type": "markdown",
   "id": "03617a23-44e8-4c00-809a-63886e6a5124",
   "metadata": {},
   "source": [
    "```{pyodide-python}\n",
    "# Plot the data.\n",
    "plt.figure()\n",
    "plt.figure(figsize=(10, 5))\n",
    "plt.scatter(swim_lessons, drownings)\n",
    "plt.xlabel('Swim Lessons')\n",
    "plt.ylabel('Drownings')\n",
    "plt.show()\n",
    "```"
   ]
  },
  {
   "cell_type": "markdown",
   "id": "3aea9c5d-3d71-450a-8015-93314891f1ac",
   "metadata": {},
   "source": [
    "::: {.callout-note}\n",
    "\n",
    "## Look at the data. Do these data match the intuitive expectation that the number of swim lessons influences the number of drownings?\n",
    "\n",
    "**A:** (Multiple Choice)\n",
    "\n",
    "- (Incorrect) Yes, as the number of swim lessons increases, the number of drownings appears to *decrease*.\n",
    "\n",
    "- (Correct) No, as the number of swim lessons increases, the number of drownings appears to *increase*.\n",
    "\n",
    ":::"
   ]
  },
  {
   "cell_type": "markdown",
   "id": "5a54d731-5f6c-47a5-ae2f-56abba5a4a50",
   "metadata": {},
   "source": [
    "We're provided one additional piece of information: the location (`x`,`y`) of each community with reported results.\n",
    "\n",
    "Let's also plot these geographic locations."
   ]
  },
  {
   "cell_type": "markdown",
   "id": "5b2f6620-80ef-4c14-a8bb-30e248a9e126",
   "metadata": {},
   "source": [
    "```{pyodide-python}\n",
    "plot_spatial_coordinates(x, y, np.zeros(np.size(x)))\n",
    "```"
   ]
  },
  {
   "cell_type": "markdown",
   "id": "684e6d26-43be-4feb-8ce5-a7316abf8026",
   "metadata": {},
   "source": [
    "::: {.callout-note}\n",
    "\n",
    "## What do you observe in the geographic locations of the communities?\n",
    "\n",
    "**A:** (Short answer)\n",
    "\n",
    "- *The communities vary in spatial location, with a high concentration at a point near the ocean.*\n",
    "    \n",
    ":::"
   ]
  },
  {
   "cell_type": "markdown",
   "id": "d4863a89-b66f-4cd9-8f48-a5f0f3e1e6ab",
   "metadata": {},
   "source": [
    "<div class=\"alert alert-block alert-danger\">\n",
    "\n",
    "**NOTE:** Data visualization is often essential to statistical inference:\n",
    "\n",
    "- We visualize the data  to draw conclusions (inferences) about a larger population based on the sample of collected data.\n",
    "\n",
    "While we utilize data visulzation here, our focus is statisitcal inference, as we discuss next.  \n",
    "</div>"
   ]
  },
  {
   "cell_type": "markdown",
   "id": "50d5779c-eeef-4acd-bbc7-f6c41e1c758d",
   "metadata": {},
   "source": [
    "# 3. Make an inference: How do the number of swim lessons relate to drownings?"
   ]
  },
  {
   "attachments": {},
   "cell_type": "markdown",
   "id": "c7cb98fc-c8f2-47ff-ae8c-3980eb13ff51",
   "metadata": {
    "jp-MarkdownHeadingCollapsed": true
   },
   "source": [
    "Now, let's perform **statistical inference**.\n",
    "\n",
    "To start, we'll perform the following three steps:\n",
    "\n",
    "1. Choose a model for the data.\n",
    "2. Use the data to infer model parameters.\n",
    "3. Summarize conclusions. \n",
    "\n",
    "Our initial statistical inference appraoch takes the form ([McCullagh & Nelder, 1989; page 391](https://www.routledge.com/Generalized-Linear-Models/McCullagh-Nelder/p/book/9780412317606)):\n",
    "\n",
    "![Initital statistical inference procedure](IMG_Inference/Inference_Path_1.jpg)\n",
    "\n",
    "We've already collected the data. Our next step is to choose a model for these data.\n",
    "\n",
    "## Step 1: Choose a model for the data.\n",
    "\n",
    "Choosing a model requires we apply our prior knowledge as scientists. \n",
    "\n",
    "In this case, let's apply our intuition to express our model in words. \n",
    "\n",
    "- **Initial Model:** I expect more swim lessons reduce the number of drownings.\n",
    "\n",
    "That's a fine model. To perform statistical inference, let's express our model as an equation:\n",
    "\n",
    "- `drownings` = m `swim_lessons` + b"
   ]
  },
  {
   "cell_type": "markdown",
   "id": "230bbb8a-a9d2-4042-9120-d27b975b3c0e",
   "metadata": {},
   "source": [
    "::: {.callout-note}\n",
    "\n",
    "## Compare our model to the equation for a line: $y = m x + b$. What is $m$? What is $b$?\n",
    "\n",
    "**A:** (Matching)\n",
    "\n",
    "$y \\rightarrow$ drownings\n",
    "\n",
    "$x \\rightarrow$ swim_lessons\n",
    "\n",
    "$m \\rightarrow$ slope\n",
    "\n",
    "$b \\rightarrow$ intercept\n",
    "\n",
    ":::"
   ]
  },
  {
   "cell_type": "markdown",
   "id": "9d7f4ee3-30aa-4293-997c-f569b4cd057b",
   "metadata": {},
   "source": [
    "Here, our initial model is a **line**.\n",
    "\n",
    "That's a very simple model of the data. \n",
    "\n",
    "We do not expect a line will capture all of the complexity in our data.\n",
    "\n",
    "However, a line (or *linear relationship*) often provides a useful first step.\n",
    "\n",
    "And, a line is relatively simple to compute and interpret."
   ]
  },
  {
   "cell_type": "markdown",
   "id": "ad397c21-f823-4d37-bf73-52152077da50",
   "metadata": {},
   "source": [
    "## Step 2. Use the data to infer model parameters."
   ]
  },
  {
   "cell_type": "markdown",
   "id": "c8707212-67f8-4656-9bab-9854586ad12d",
   "metadata": {},
   "source": [
    "Having chosen our model -- a line -- our next step is to **infer the parameters** in our model.\n",
    "\n",
    "There are two parameters in the model:\n",
    "\n",
    "- `m`, the slope, and\n",
    "\n",
    "- `b`, the intercept.\n",
    "\n",
    "We're primarily interested in the slope (`m`). This parameter indicates the relationship between `swim_lessons` and `drownings`."
   ]
  },
  {
   "cell_type": "markdown",
   "id": "fadd6370-5532-4802-ae87-7fa9f92006f3",
   "metadata": {},
   "source": [
    "::: {.callout-note}\n",
    "\n",
    "## What sign (positive or negative) do you expect for the slope `m`?\n",
    "\n",
    "**A:** (Multiple Choice)\n",
    "\n",
    "- (Incorrect) I expect the slope is positive because I expect `drownings` will increases with `swim_lessons`.\n",
    "\n",
    "- (Correct) I expect the slope is negative because I expect `drownings` will decrease with `swim_lessons`.\n",
    "\n",
    ":::"
   ]
  },
  {
   "cell_type": "markdown",
   "id": "6a04181f-ab17-4bdf-82d1-377f359b1a32",
   "metadata": {},
   "source": [
    "We expect $m<0$.\n",
    "\n",
    "- We expect a negative relationship between `drownings` and `swim_lessons`\n",
    "\n",
    "- We expect more swim lessons will reduce the number of drownings.\n",
    "\n",
    "Let's infer $m$ from the data."
   ]
  },
  {
   "cell_type": "markdown",
   "id": "080120c5-f133-4ccd-9d08-3e71ea699e66",
   "metadata": {},
   "source": [
    "```{pyodide-python}\n",
    "m, m_standard_error = estimate_line(swim_lessons, drownings)\n",
    "print('m=',round(m,4))\n",
    "print('standard_error=',round(m_standard_error,4))\n",
    "```"
   ]
  },
  {
   "cell_type": "markdown",
   "id": "47d393d5-36de-433f-b25c-99fefb3edafa",
   "metadata": {},
   "source": [
    "**Meaning:**\n",
    "\n",
    "- The slope estimate `m` represents the change in the number of `drownings` when the number of `swim_lessons` changes by 1.\n",
    "- The `standard_error` represents the variability of the slope estimate.\n",
    "\n",
    "\n",
    "**Interpretation:**\n",
    "\n",
    "- For a one-unit increase in the number of `swim_lessons`, we estimate the number of `drownings`to increase by 0.0014, on average.\n",
    "- The standard error (0.0002) is small compared to the slope estimate, so the variability in the slope estimate is small; i.e., the estimate is precise.\n"
   ]
  },
  {
   "cell_type": "markdown",
   "id": "6e6ea3e3-b745-4147-86f7-7c1200d21edb",
   "metadata": {},
   "source": [
    "Remember our model is a line.\n",
    "\n",
    "A line is easy to visualize.\n",
    "\n",
    "Since we've now inferrred the model parameters, let's **visualize** the inferred line by plotting it with the data."
   ]
  },
  {
   "cell_type": "markdown",
   "id": "8cf8c817-6ffe-4fce-9472-512aa71b9396",
   "metadata": {},
   "source": [
    "```{pyodide-python}\n",
    "plot_line(swim_lessons, drownings)\n",
    "```"
   ]
  },
  {
   "cell_type": "markdown",
   "id": "5a236406-5f83-4a30-93eb-c3ca523a3f0a",
   "metadata": {},
   "source": [
    "::: {.callout-note}\n",
    "\n",
    "##  Looking at this plot, what is the slope of the inferred line?\n",
    "\n",
    "**A:** (Multiple Choice)\n",
    "\n",
    "- (Correct) The slope is positive -- the line tilts up.\n",
    "\n",
    "- (Incorrect) The slope is negative -- the line tilts down.\n",
    ":::"
   ]
  },
  {
   "cell_type": "markdown",
   "id": "be07b04d-46e3-4b98-9553-28e42e8ee974",
   "metadata": {},
   "source": [
    "## Step 3. Summarize conclusions."
   ]
  },
  {
   "cell_type": "markdown",
   "id": "075e27b9-6c76-4672-9af0-c04efe51e684",
   "metadata": {},
   "source": [
    "Having chosen the model (Step 1) and inferred model parameters (Step 2), our last step is to summarize the conclusions of our statistical inference.\n",
    "\n",
    "Let's start by considering an explict numerical conclusion from our model:\n",
    "\n",
    "- How does the number of drownings change if we increase the number of swim lessons by 1000?\n"
   ]
  },
  {
   "cell_type": "markdown",
   "id": "3ae197e8-20ac-4706-8fea-9f90107bbe92",
   "metadata": {},
   "source": [
    "::: {.callout-note}\n",
    "\n",
    "## We find an increase of 0.0014 `drownings` for a one-unit increase in the number of `swim_lessons`. How does the number of `drownings` change when the number of `swim_lessons` increases by 1000.\n",
    "\n",
    "**A:** \n",
    "\n",
    "Our model of the data is a line:\n",
    "\n",
    "`drownings` = m `swim_lessons` + b\n",
    "\n",
    "We inferred the model parameter `m` from the data and found:\n",
    "\n",
    "`drownings` = 0.0014 `swim_lessons` + b\n",
    "\n",
    "Consider what happens if the number of swim lessons increases by 1. Then, according to our fit model, the number of drownings increases by:\n",
    "\n",
    "`drownings = 0.0014 * 1 = 0.0014`\n",
    "\n",
    "That's a small increase, in both the number of swim lessons and number of drownings.\n",
    "\n",
    "Alternately, consider what happens if the number of swim lessons increases by 1000. Then, plugging into our model, we find the number of drownings increases by:\n",
    "\n",
    "`drownings = 0.0014 * 1000 = 1.4`\n",
    "\n",
    "That's perhaps a more interpertable result; a community making a policy decision to promote more swim lessons (e.g., through subsidies, though advertisements) might expect 1 more drowning.\n",
    "\n",
    "In this way, we can always interpert the results of a model. It's often useful to plug in values, and see what happens.\n",
    ":::"
   ]
  },
  {
   "cell_type": "markdown",
   "id": "cbc3c4ee-7ed4-42e0-b554-5a2a3dcfdc05",
   "metadata": {},
   "source": [
    "### Summary\n",
    "\n",
    "We've applied a statistical inference approach and found a compelling result:\n",
    "\n",
    "- **The number of drowings *increases* with more swim lessons.**\n",
    "\n",
    "The slope estimate `m` in our model looks convincing:\n",
    "\n",
    "- The standard error is small (0.0002) compared to the slope (0.0014); i.e., the estimate is precise.\n",
    "\n",
    "These results are certainly passable for peer-reviewed publication and perhaps enough to motivate a new public policy:\n",
    "\n",
    "- To prevent drownings, discourage swim lessons."
   ]
  },
  {
   "cell_type": "markdown",
   "id": "29ff0ae5-a3d6-4baa-9676-89ffbff93daf",
   "metadata": {},
   "source": [
    "::: {.callout-note}\n",
    "## What's our next step?\n",
    "\n",
    "**CENTER generated Button: These results are convincing - let's advocate for change!**\n",
    "\n",
    "- *Discussion*: That's a reasonable conclusion, based on the evidence we've looked at so far. However, our conclusion is controversial: to reduce drownings, reduce the number of swim lessons. Before we recommend this policy, let's investigate an essential aspect of our inference - how well our model (the line) fits the data. A good fit to the data inspires confidence in our inference. Alternatively, a poor fit provides us motivation to continue developing our model. Continue on to the next Mini to learn a strategey to answer this question.\n",
    "\n",
    "**CENTER generate Button: I'm not sure yet!**\n",
    "\n",
    "- *Discussion*: I'm glad you're not sure. Neither am I. Our results suggest a controverisal conclusion: to reduce drownings, reduce the number of swim lessons. To make this conclusion, we modeled the data as a line. But, is this line a good model of the data? If so, that inspires confidence in our result. However, if the model (a line) is not a good representation of the data, then we might question the result. Continue on to the next Mini to learn a strategey to answer this question.\n",
    ":::"
   ]
  },
  {
   "cell_type": "markdown",
   "id": "0568856b-5016-4f50-870d-c38f21020866",
   "metadata": {},
   "source": [
    "# 4. Something’s not right … evaluate your evaluation method."
   ]
  },
  {
   "cell_type": "markdown",
   "id": "daa3fa00-436d-428a-84ab-d2cc6ba6007c",
   "metadata": {},
   "source": [
    "To look for a relationship between `swim_lessons` and `drownings`, our initial statistical inference appraoch required we chose a model of the data.\n",
    "\n",
    "**We chose a line to model the data.**\n",
    "\n",
    "This simple model resulted in a precise (i.e., low varaibility) estimate of the relationship between `swim_lessons` and `drownings`.\n",
    "\n",
    "But, was this a good model choice?\n",
    "\n",
    "An important step in any statistical inference is to **check our model**. \n",
    "\n",
    "Let's update our initial statistical inference appraoch to include this fundamental step ([McCullagh & Nelder, 1989; page 391](https://www.routledge.com/Generalized-Linear-Models/McCullagh-Nelder/p/book/9780412317606)):\n",
    "\n",
    "![Modified statistical inference loop](IMG_Inference/Inference_Path_2.jpg)\n",
    "\n",
    "Our updated statistical inference appraoch becomes:\n",
    "\n",
    "1. Choose a model for the data.\n",
    "2. Use the data to infer model parameters.\n",
    "3. **Check and refine the model.**\n",
    "4. Summarize conclusions.\n",
    "\n",
    "Notice that we've included a new step: *Check and refine the model.*\n",
    "\n",
    "In checking the model, we look for **discrepancies between the data and model**.\n",
    "\n",
    "These discrepancies help us determine whether the model is suitable or inadequate.\n",
    "\n",
    "If we determine the model is inadequate, then we return to Step 1 (red arrow), consider an alternative model for the data, and repeat the inference and model checking steps.\n",
    "\n",
    "If we determine the model is suitable, then we continue to Step 4 and summarize our conclusions.\n",
    "\n",
    "This statistical inference loops profoundly changes the process of analysis ([McCullagh & Nelder, 1989; page 392](https://www.routledge.com/Generalized-Linear-Models/McCullagh-Nelder/p/book/9780412317606)).\n",
    "\n",
    "In what follows, we'll illustrate this updated statistical inference loop by checking the model (Step 3) we developed for the `swim_lessons` and `drownings`.\n"
   ]
  },
  {
   "cell_type": "markdown",
   "id": "13a0b11f-061e-4dad-b411-183d011937b1",
   "metadata": {},
   "source": [
    "## Residual Analysis"
   ]
  },
  {
   "cell_type": "markdown",
   "id": "ccc856a9-876e-490f-96ef-55f740e8e222",
   "metadata": {},
   "source": [
    "Many appraoches exist to check a model ([McCullagh & Nelder, 1989; Chapter 12](https://www.routledge.com/Generalized-Linear-Models/McCullagh-Nelder/p/book/9780412317606)).\n",
    "\n",
    "Here, we implement a common and powerful appraoch: **residual analysis**.\n",
    "\n",
    "**Residuals** are the differences between the observed data and model predicted values.\n",
    "\n",
    "In our case, the residuals are the difference between the estimated drownings from our model (the line we fit to the data) and the actual values for `drownings`.\n",
    "\n",
    "Remember our plot of the estimated model (solid red line) and the data (blue dots):"
   ]
  },
  {
   "cell_type": "markdown",
   "id": "57b250d5-cab1-4689-a091-37a883ba7231",
   "metadata": {},
   "source": [
    "```{pyodide-python}\n",
    "plot_line(swim_lessons, drownings)\n",
    "```"
   ]
  },
  {
   "cell_type": "markdown",
   "id": "61902a81-5aca-4689-8041-9dd247ea1f19",
   "metadata": {},
   "source": [
    "The residuals are the distance from each blue dot (the data) to the red line (the estimated model)."
   ]
  },
  {
   "cell_type": "markdown",
   "id": "35c2810d-9645-4142-bc0e-46300ac0714e",
   "metadata": {},
   "source": [
    "```{pyodide-python}\n",
    "plot_line_with_residuals(swim_lessons, drownings)\n",
    "plt.xlim([400, 500])\n",
    "```"
   ]
  },
  {
   "cell_type": "markdown",
   "id": "4e26775c-8cfa-4778-a214-03a5ff70ec60",
   "metadata": {},
   "source": [
    "In the plot above, each orange line indicates a residual."
   ]
  },
  {
   "cell_type": "markdown",
   "id": "1bcb711c-6797-48b4-9bf1-cf779e2e48f9",
   "metadata": {},
   "source": [
    "If the model is a good fit to the data, then we expect a patternless set of residuals (i.e., the residuals are randomly scattered around zero).\n",
    "\n",
    "Alternatively, if we find patterns in the residuals, we might wonder about our model choice, and consider strategies to update and improve our model."
   ]
  },
  {
   "cell_type": "markdown",
   "id": "ee3ed4b4-1055-40a2-9b88-27b3ce53fc4f",
   "metadata": {},
   "source": [
    "<div class=\"alert alert-block alert-danger\">\n",
    "\n",
    "**NOTE:** Other approaches exist to check our model. These include goodness-of-fit metrics (like R-squared), comparison with alternative models (using techniques like AIC), and cross-validation to assess how well the model generalizes to new data. There's unfortunately no one best strategy to check a model.  Here we focus on residual analysis because the appraoch is intuitive and provides a good gauge of how our model is doing.\n",
    "\n",
    "</div>"
   ]
  },
  {
   "cell_type": "markdown",
   "id": "1c7a20f9-9444-43a3-abaf-451979709d08",
   "metadata": {},
   "source": [
    "Let's plot the residuals for our original model:"
   ]
  },
  {
   "cell_type": "markdown",
   "id": "d5dcd88d-6267-4e3d-a885-a4b515dfab2b",
   "metadata": {},
   "source": [
    "```{pyodide-python}\n",
    "residuals = compute_residuals_2d(swim_lessons, drownings)\n",
    "plt.figure(figsize=(10, 5))\n",
    "plt.plot(residuals, '*')\n",
    "plt.xlabel('Index')\n",
    "plt.ylabel('Residuals')\n",
    "plt.show()\n",
    "```"
   ]
  },
  {
   "cell_type": "markdown",
   "id": "43cff2c2-a650-4c58-8223-bad36eb6e458",
   "metadata": {},
   "source": [
    "::: {.callout-note}\n",
    "## Do you see any patterns in this plot of the residuals?\n",
    "\n",
    "**A:** (Short answer)\n",
    "\n",
    "- No. At first glance, these residuals look mostly patternless.\n",
    "\n",
    ":::"
   ]
  },
  {
   "cell_type": "markdown",
   "id": "3f3a52a1-9cef-44f8-b141-2a47b29a337e",
   "metadata": {},
   "source": [
    "Our visualization of the residuals revelas no systematic patterns.\n",
    "\n",
    "- Instead, the residuals appear to fluctuate around 0."
   ]
  },
  {
   "cell_type": "markdown",
   "id": "df29c705-fdae-47e3-a3ae-3ddaf6e4ad65",
   "metadata": {},
   "source": [
    "<div class=\"alert alert-block alert-danger\">\n",
    "\n",
    "That means our model is ok, right?\n",
    "\n",
    "**NO!**\n",
    "\n",
    "This visualization of the residuals is *not* very informative.\n",
    "\n",
    "The horizontal axis (the variable `index`) is arbitrary.\n",
    "\n",
    "</div>"
   ]
  },
  {
   "cell_type": "markdown",
   "id": "35a3f9de-5a6e-4783-a775-2cceebfde983",
   "metadata": {},
   "source": [
    "To observe systematic patterns in the residuals, let's plot the `residuals` versus the predictor in our model: the number of `swim_lessons`."
   ]
  },
  {
   "cell_type": "markdown",
   "id": "d39bd5bb-085b-4403-a59d-4db4ebcf2ba9",
   "metadata": {},
   "source": [
    "```{pyodide-python}\n",
    "plt.figure(figsize=(10, 5))\n",
    "plt.scatter(swim_lessons, residuals)\n",
    "plt.xlabel('Number of swim lessons')\n",
    "plt.ylabel('Model residuals');\n",
    "plt.show()\n",
    "```"
   ]
  },
  {
   "cell_type": "markdown",
   "id": "38b0210c-9cab-45ab-929c-ca785e878c09",
   "metadata": {},
   "source": [
    "::: {.callout-note}\n",
    "## Now, what pattens do you see in the residuals, when plotted versus the model variable `swim_lessons`?\n",
    "\n",
    "**A:** (Short Answer)\n",
    "\n",
    "Inspection of `residuals` versus `swim_lessons` reveals two clear patterns:\n",
    "\n",
    "- As `swim_lessons` increases, a systematic decrease in the `residuals`.\n",
    "\n",
    "- As `swim_lessons` increases, the variability of the `residuals` tends to increase.\n",
    ":::"
   ]
  },
  {
   "cell_type": "markdown",
   "id": "229667e5-f0ba-4458-a897-d3fff815883d",
   "metadata": {},
   "source": [
    "We conclude from this **model check** that something isn't right.\n",
    "\n",
    "- Our model doesn't adequately describe features in the data."
   ]
  },
  {
   "cell_type": "markdown",
   "id": "cb5e5660-464e-4a6b-b49d-aa94ec9a46c5",
   "metadata": {},
   "source": [
    "::: {.callout-note}\n",
    "## We've plotted the `residuals` versus the predictor `swim_lessons`. We could also plot `residuals` versus the outcome variable `drownings`. Doing so, what do you see?\n",
    "\n",
    "**A:** (Extension / Challenge Question)\n",
    "\n",
    ":::"
   ]
  },
  {
   "cell_type": "markdown",
   "id": "66eb6c35-f5d6-40a0-89e4-0b41524834cf",
   "metadata": {},
   "source": [
    "## Model Refinement: infinite choice\n",
    "\n",
    "Our initial approached modeled `swim_lessons` versus `drownings`.\n",
    "\n",
    "To do so, we chose a line as our model (Step 1).\n",
    "\n",
    "We then inferred model parameters from the data (Step 2) and checked the model (Step 3) by visualizing the residuals.\n",
    "\n",
    "Our model check suggests the model is inadequate.\n",
    "\n",
    "- We find systematic discrepancies between the model estimates and data.\n",
    "\n",
    "Therefore, it's time to **refine our model**.\n",
    "\n",
    "We can refine the model in infinite ways.\n",
    "\n",
    "For example, we could consider this model:\n",
    "\n",
    "- `drownings` = m `swim_lessons` + b + a `swim_lessons`$^2$\n",
    "\n",
    "where we propose that the number of drownings depends on the number of swim lessons and the number of swim lessons squared.\n",
    "\n",
    "Or we might consider:\n",
    "\n",
    "- `drownings` = m `swim_lessons` + b + a `swim_lessons`$^2$ + c `swim_lessons`$^3$ + $\\log10$(`swim_lessons`)\n",
    "\n",
    "where we propose that the number of drownings depends on the number of swim lessons, the number of swim lessons squared, the number of swim lessons cubed, and log10 of the number of swim lessons."
   ]
  },
  {
   "cell_type": "markdown",
   "id": "b01ed3e1-50d0-40aa-b6ed-29308cfa20e1",
   "metadata": {},
   "source": [
    "::: {.callout-note}\n",
    "## What other terms might you include in the model?\n",
    "\n",
    "**A:** (Short Answer)\n",
    "\n",
    "- `swim_lessons`$^4$\n",
    "- `swim_lessons`$^{10}$\n",
    "\n",
    ":::"
   ]
  },
  {
   "cell_type": "markdown",
   "id": "7cf5050d-1e2e-45bf-a338-f9ecbc4ddfbd",
   "metadata": {},
   "source": [
    "**Your challenge, as a scientist, is to select a meaningful next model from these infinite model choices.**\n",
    "\n",
    "For each choice, we can iterate our statistical inference loop (infer the model parameters from data, then check the model)."
   ]
  },
  {
   "cell_type": "markdown",
   "id": "fdc0a451-effe-4b8d-9258-35d75388ef28",
   "metadata": {},
   "source": [
    "<div class=\"alert alert-block alert-danger\">\n",
    "\n",
    "**Selecting a model is an art.** You must use your knowledge and intution as a scientist to select model terms. \n",
    "\n",
    "</div>"
   ]
  },
  {
   "cell_type": "markdown",
   "id": "500692a4-2308-4d73-ae75-a07be17b1a51",
   "metadata": {},
   "source": [
    "As scientists, we use our intuition to rule out ridiculous models.\n",
    "\n",
    "For example, you probably would not consider this model:\n",
    "\n",
    "- `drownings` = m `swim_lessons` + b + a $\\sin(\\exp($ `swim_lessons`$^{1/3}$ ))\n",
    "\n",
    "Why not consider this model?\n",
    "\n",
    "- Because the term $\\sin(\\exp($ `swim_lessons`$^{1/3}$ )) looks like overly-complicated nonsense.\n",
    "\n",
    "- We have intuition that `drownings` does **not** depend on `swim_lessons` in this complicated way."
   ]
  },
  {
   "cell_type": "markdown",
   "id": "cbf2c960-2481-44c5-a162-d9f909342d3c",
   "metadata": {},
   "source": [
    "**When we observe additional data, we can decide to include that additional information in the model.**\n",
    "\n",
    "In this case, we also observe the geographic location (latitude and longitude) of each community in the study.\n",
    "\n",
    "Let's investigate how the `residuals` relate to the geographic location of the community."
   ]
  },
  {
   "cell_type": "markdown",
   "id": "08ec80e3-9340-48a1-9726-8f923a5cd502",
   "metadata": {},
   "source": [
    "```{pyodide-python}\n",
    "plot_spatial_coordinates(x, y, residuals)\n",
    "```"
   ]
  },
  {
   "cell_type": "markdown",
   "id": "2287aa54-84c4-4bf4-b724-aafda7169a2c",
   "metadata": {},
   "source": [
    "::: {.callout-note}\n",
    "\n",
    "## Do you observe any patterns in the residuals that depend on location?\n",
    "\n",
    "**A:** (Multiple Choice)\n",
    "\n",
    "- (Correct) Yes, the residuals appear to vary with geographic location. Nearer to the ocean, the residuals tend to be more positive (darker blue colors).\n",
    "- (Incorrect) No, the residuals do **not** appear to vary with geographic location.\n",
    "    \n",
    ":::"
   ]
  },
  {
   "cell_type": "markdown",
   "id": "f0f0984f-3b8f-4dfa-a4e8-932bbec08d03",
   "metadata": {},
   "source": [
    "## Conclusions\n",
    "\n",
    "Our analysis of the residuals suggests an important result\n",
    "\n",
    "- **Our inital model fit (a line) is no good**.\n",
    "\n",
    "This is a very useful result.\n",
    "\n",
    "Our initial statistical inference produced a counter-intuitive result:\n",
    "\n",
    "- As swim lessons increase, so do drownings.\n",
    "\n",
    "But this initial inference is based on a model - the line - that's not a good representation of the data.\n",
    "\n",
    "- Clear trends exist in the residuals. \n",
    "\n",
    "Checking the model is our first step to improving the model, and thereby improving the statistical inferences we make from the data."
   ]
  },
  {
   "cell_type": "markdown",
   "id": "879754aa-d796-4dfc-b22e-08e84320eebc",
   "metadata": {},
   "source": [
    "<div class=\"alert alert-block alert-danger\">\n",
    "\n",
    "**NOTE**: In this case, our model check (**Residual Analysis**) failed; the resiudals were not randomly scattered around 0.\n",
    "\n",
    "Because the model check failed, we can dismiss the counter-intuitve relationship identified in our initial model (i.e., that more `swim_lessons` increase the number of `drownings`) and continue model development.\n",
    "\n",
    "However, we emphasize that further model development should be pursued regardless of the relationship our initial model identified. Even if the initial  statistcal inference proposed an intuitive result (i.e., that more `swim_lessons` decrease the number of `drownings`), we would still continue model development; when the model check fails, we're not satisified with the initial model, no matter the intuitive appeal of the result.\n",
    "\n",
    "</div>"
   ]
  },
  {
   "cell_type": "markdown",
   "id": "04dce15c-19cc-4e9c-83f7-d61a87d4223c",
   "metadata": {},
   "source": [
    "# 5. Iterate the statistical inference loop: improve your scientific conclusions by improving your inference model."
   ]
  },
  {
   "cell_type": "markdown",
   "id": "52a1603e-f8bd-42f8-84a8-f3fa75d169a5",
   "metadata": {},
   "source": [
    "Remember our statistical inference loop:\n",
    "\n",
    "![Statistical inference loop](IMG_Inference/Inference_Path_2.jpg)\n",
    "\n",
    "In Mini 3, we proposed our initial model\n",
    "\n",
    "- **Initial model:** `drownings` = m `swim_lessons` + b\n",
    "\n",
    "In Mini 4, we checked our model by visualing the residuals (i.e., the difference between our initial model predictions and the data).\n",
    "\n",
    "We found systematic discrepancies (i.e., patterns) in the residuals and concluded: \n",
    "\n",
    "- **Our inital model fit (a line) is no good**.\n",
    "\n",
    "With this knowledge, our task now is to **refine the model**."
   ]
  },
  {
   "cell_type": "markdown",
   "id": "f209d334-69b3-4641-bf9d-e3b4d4853e96",
   "metadata": {},
   "source": [
    "::: {.callout-note}\n",
    "\n",
    "## Many strategies exist to refine our model. To get started, consider this question: What is missing from the model?\n",
    "\n",
    "**A:** (Short Answer)\n",
    "\n",
    "- Many things could be missing, including the age of individuals in the community, or the time of year in which the data were collected, or the socioeconomic status of each community. The goal of a model is not to capture every possible cause of `drownings`. Instead, the goal of the model is to develop a simple, but useful, description of the population, given the small sample of data we get to observe. In the words of George Box: *\"All models are wrong, but some are useful.\"*\n",
    "- There could be issues with the sampling of data. Maybe the data were collected incorrectly. That's possible, but not the issue here. \n",
    "\n",
    ":::"
   ]
  },
  {
   "cell_type": "markdown",
   "id": "c83d6b27-b9c1-4d54-bd55-b1a458c46a05",
   "metadata": {},
   "source": [
    "To update our model, consider these data we examined in previous Minis:\n",
    "\n",
    "- The geographic location of each community.\n",
    "\n",
    "Let's again consider the initial model residuals versus the geographic location of each communitiy:"
   ]
  },
  {
   "cell_type": "markdown",
   "id": "5b948fac-e5ad-43e9-a253-ace35fc634cf",
   "metadata": {},
   "source": [
    "```{pyodide-python}\n",
    "residuals = compute_residuals_2d(swim_lessons, drownings)\n",
    "plot_spatial_coordinates(x, y, residuals)\n",
    "```"
   ]
  },
  {
   "cell_type": "markdown",
   "id": "c7a5b39c-6d07-4c6e-b183-cf89dabf97e4",
   "metadata": {},
   "source": [
    "We observe that these **residuals vary with geographic location**.\n",
    "\n",
    "More specficily, we notice spatial patterns in the residuals:\n",
    "\n",
    "- positive residuals near the coast,\n",
    "\n",
    "- negative resiudals away from the coast.\n",
    "\n",
    "These observations suggest an important model refinement:\n",
    "\n",
    "- **Update the model to include distance to the ocean as another predictor.**"
   ]
  },
  {
   "cell_type": "markdown",
   "id": "2edbd45c-50d3-4abe-95d3-d844927f2563",
   "metadata": {},
   "source": [
    "::: {.callout-note}\n",
    "\n",
    "## There are infinite features we could include in the model. Why include distance to the ocean?\n",
    "\n",
    "**A:** (Multiple Choice)\n",
    "\n",
    "- (Correct) The feature makes intuitive sense: we might expect more `drownings` at locations near to the ocean, and fewer drownings at locations far from the ocean.\n",
    "- (Correct) We have data for this predictor (i.e., we can determine the distance from each community to the ocean). \n",
    "\n",
    ":::"
   ]
  },
  {
   "cell_type": "markdown",
   "id": "b3fb1af2-4159-4bd0-af36-635737ca6a55",
   "metadata": {},
   "source": [
    "With this idea for our new model, let's **implement each step of our statistical inference loop**:\n",
    "\n",
    "1. Choose a model for the data.\n",
    "2. Use the data to infer model parameters.\n",
    "3. Check and refine the model.\n",
    "4. Summarize conclusions."
   ]
  },
  {
   "cell_type": "markdown",
   "id": "781e150f-ea98-4c15-affa-466bd07450d6",
   "metadata": {},
   "source": [
    "## Step 1: Choose a model for the data.\n",
    "\n",
    "Our refined model of `drownings` includes two predictors:\n",
    "\n",
    "- The number of swim lessons (`swim_lessons`).\n",
    "- The distance from the ocean (`distance_from_ocean`)\n",
    "    - measured as the geodesic distance in kilometers as the crow flies from Myrtle Beach).\n",
    "\n",
    "Our refined model becomes:\n",
    "\n",
    "- **Refined model:** `drownings` = $m_1$ `swim_lessons` + $m_2$ `distance_from_ocean` + b\n",
    "\n",
    "Remember that our initial model - a line in Mini 3 - contained one outcome (`drownings`) and one predictor (`swim_lessons`).\n",
    "\n",
    "Our refined model contains one outcome (`drownings`) and **two predictors** (`swim_lessons` and `distance_from_ocean`).\n",
    "\n",
    "Therefore, **our refined model is a 2-dimensional plane in the 3-dimensional space of the data**.\n",
    "\n",
    "To visualize our 3-dimensional data, let's load these new data and plot it."
   ]
  },
  {
   "cell_type": "markdown",
   "id": "137d5705-f5bf-48c0-a2f4-5644903a1a7e",
   "metadata": {},
   "source": [
    "```{pyodide-python}\n",
    "# Load the data with new the variable.\n",
    "swim_lessons, drownings, x,y, distance_from_ocean = load_more_data()\n",
    "```"
   ]
  },
  {
   "cell_type": "markdown",
   "id": "04d3d60c-9029-4c35-a63c-510fdcffeb22",
   "metadata": {},
   "source": [
    "```{pyodide-python}\n",
    "# Plot the data in 3-dimensions.\n",
    "fig = plt.figure()\n",
    "ax  = fig.add_subplot(111, projection='3d')\n",
    "ax.scatter(swim_lessons, distance_from_ocean, drownings)\n",
    "ax.set_xlabel('Swim lessons')\n",
    "ax.set_ylabel('Distance from ocean')\n",
    "ax.set_zlabel('Drownings')\n",
    "plt.show()\n",
    "```"
   ]
  },
  {
   "cell_type": "markdown",
   "id": "e024e755-4667-4238-aaf9-a0a855d295a7",
   "metadata": {},
   "source": [
    "::: {.callout-note}\n",
    "\n",
    "## Look at the three-dimensional plot. Can you sketch (or imagine) a plane that slices through these points?\n",
    "\n",
    "**A:** It's difficult to see, but maybe.\n",
    "\n",
    ":::"
   ]
  },
  {
   "cell_type": "markdown",
   "id": "f1bae087-def8-4809-9696-6bc180f260c9",
   "metadata": {},
   "source": [
    "## Step 2. Use the data to infer model parameters.\n",
    "\n",
    "With these data and our refined model, let's continue our statistical inference loop and **infer model parameters**.\n",
    "\n",
    "To do so, we'll fit a plane to the data.\n",
    "\n",
    "The idea is *exactly* the same as fitting a line to the data in our original model.\n",
    "\n",
    "By fitting a plane to the data, we'll infer three model parameters:\n",
    "\n",
    "- $m_1$, the slope corresponding to the predictor `swim_lessons`.\n",
    "- $m_2$, the slope corresponding to the predictor `distance_from_ocean`.\n",
    "- $b$, the intercept.\n",
    "\n",
    "We're primarily interested in $m_1$, the slope corresponding to the predictor `swim_lessons`.\n",
    "\n",
    "- This parameter indicates the relationship between `swim_lessons` and `drownings`.\n",
    "\n",
    "However, we now include the additional predictor `distance_to_ocean` and also infer its slope ($m_2$) from the data.\n",
    "\n",
    "We're not necessarily interested in the relationship between `drowings` and `distance_to_ocean`. Motivated by our scientific knowledge (e.g., that drownings may depend on a community's distance to the ocean) and our residual analysis in the initial model, we include this new predictor."
   ]
  },
  {
   "cell_type": "markdown",
   "id": "39e4225a-c030-4e56-bc8a-47bd3d8c8e01",
   "metadata": {},
   "source": [
    "::: {.callout-note}\n",
    "\n",
    "## What sign (positive or negative) do you expect for the slope $m_1$?\n",
    "\n",
    "**A:** (Multiple Choice)\n",
    "\n",
    "- (Incorrect) I expect the slope is positive because I expect `drownings` will increases with `swim_lessions`.\n",
    "\n",
    "- (Correct) I expect the slope is negative because I expect `drownings` will decrease with `swim_lessions`.\n",
    "\n",
    ":::"
   ]
  },
  {
   "cell_type": "markdown",
   "id": "716b950b-e088-4529-a55b-9ab0724cb75f",
   "metadata": {},
   "source": [
    "::: {.callout-note}\n",
    "\n",
    "## What sign (positive or negative) do you expect for the slope $m_2$?\n",
    "\n",
    "**A:** (Multiple Choice)\n",
    "\n",
    "- (Incorrect) I expect the slope is positive because I expect `drownings` will increases with `distance_from_ocean`.\n",
    "\n",
    "- (Correct) I expect the slope is negative because I expect `drownings` will decrease with `distance_from_ocean`.\n",
    "\n",
    ":::"
   ]
  },
  {
   "cell_type": "markdown",
   "id": "ec9d0fe8-d9d9-49e8-9d28-ac200657e60b",
   "metadata": {},
   "source": [
    "We expect $m_1<0$ and $m_2<0$.\n",
    "\n",
    "- We expect a negative relationship between `drownings` and `swim_lessons`, i.e., we expect increased swim lessons will decrease the number of drownings.\n",
    "\n",
    "- We expect a negative relationship between `drownings` and `distance_from_ocean`, i.e., we expect increased distance from the ocean will decrease the number of drownings.\n",
    "\n",
    "Let's infer $m_1$ and $m_2$ from the data."
   ]
  },
  {
   "cell_type": "markdown",
   "id": "a6f3be4f-a964-4efd-b3fb-f61d722d2683",
   "metadata": {},
   "source": [
    "```{pyodide-python}\n",
    "m1, m1_standard_error, m2, m2_standard_error = estimate_plane(swim_lessons, drownings, distance_from_ocean)\n",
    "print('Swim Lessons:')\n",
    "print('m1=',round(m1,4))\n",
    "print('standard_error=',round(m1_standard_error,4))\n",
    "print('Distance from Ocean:')\n",
    "print('m2=',round(m2,4))\n",
    "print('standard_error=',round(m2_standard_error,4))\n",
    "```"
   ]
  },
  {
   "cell_type": "markdown",
   "id": "2d201286-72da-429a-b790-b230b0d4cd49",
   "metadata": {},
   "source": [
    "**Meaning:**\n",
    "\n",
    "- The slope estimate `m_1` represents the change in the number of `drownings` for a one-unit change in the number of `swim_lessons`.\n",
    "- The slope estimate `m_2` represents the change in the number of `drownings` for a one-unit change in the `distance_from_ocean`.\n",
    "- For each parameter, the `standard_error` represents the variability of the slope estimate.\n",
    "\n",
    "\n",
    "**Interpretation of inferred value for `m_1`:**\n",
    "\n",
    "- The sign of `m_1` is negative.\n",
    "- If the number of `swim_lessons` increases by 1, we estimate the number of `drownings` *decreases* by 0.0003, on average.\n",
    "- The standard error (0.0003) is **big** compared to the slope estimate, so the variability in the slope estimate is large; i.e., the estimate is unreliable.\n",
    "\n",
    "**Interpretation of inferred value for `m_2`:**\n",
    "\n",
    "- The sign of `m_2` is negative.\n",
    "- If the `distance_from_ocean` increases by 1 kilometer, we estimate the number of `drownings` *decreases* by 0.06, on average.\n",
    "- The standard error (0.0087) is **small** compared to the slope estimate, so the variability in the slope estimate is small; i.e., the estimate is precise.\n"
   ]
  },
  {
   "cell_type": "markdown",
   "id": "396e430c-354a-4788-a887-968481558551",
   "metadata": {},
   "source": [
    "Our refined model is a 2-dimenisonal plane in the 3-dimensional space of variables (`swim_lessons`, `distance_from_ocean`, and `drownings`).\n",
    "\n",
    "Since we've now inferrred the model parameters from the data, we can **visualize** the inferred plane.\n",
    "\n",
    "In other words, let's plot the model with the data."
   ]
  },
  {
   "cell_type": "markdown",
   "id": "8f32e76b-0aec-4539-b532-0e43d896d8da",
   "metadata": {},
   "source": [
    "```{pyodide-python}\n",
    "plot_plane(swim_lessons, drownings, distance_from_ocean)\n",
    "```"
   ]
  },
  {
   "cell_type": "markdown",
   "id": "017a01f7-b128-4265-9a5f-a7c869268c60",
   "metadata": {},
   "source": [
    "## Step 3. Check and refine the model."
   ]
  },
  {
   "cell_type": "markdown",
   "id": "fac29786-6983-4229-97eb-45b306ea8195",
   "metadata": {},
   "source": [
    "Let's now **check the refined model**.\n",
    "\n",
    "To do so, let's plot the new model errors (i.e., the `residuals`) versus a predictor in our model (here, the number of `swim_lessons`)."
   ]
  },
  {
   "cell_type": "markdown",
   "id": "b4d7f58b-5234-4ba8-bb33-849d01d7ba7d",
   "metadata": {},
   "source": [
    "```{pyodide-python}\n",
    "residuals = compute_residuals_3d(swim_lessons, drownings, distance_from_ocean)\n",
    "plt.figure(figsize=(10, 5))\n",
    "plt.scatter(swim_lessons, residuals)\n",
    "plt.xlabel('Number of swim lessons')\n",
    "plt.ylabel('Model residuals');\n",
    "plt.show()\n",
    "```"
   ]
  },
  {
   "cell_type": "markdown",
   "id": "883fb5eb-3b0f-42d3-b6cf-623dd1ed308d",
   "metadata": {},
   "source": [
    "::: {.callout-note}\n",
    "\n",
    "## Wait, I thought this was a 2-dimensional model of 3-dimensional data. Why are the residuals only 1-dimensional?\n",
    "\n",
    "**A:** (Multiple Choice)\n",
    "\n",
    "- (Correct) The residuals are the difference between the observed number of drownings (`drowning`) and the predicted number of drowning by the model. Both of these quantities are 1-dimensional.\n",
    "- (Incorrect) The data are 3-dimensional and the model is 2-dimensional so 3-2 = 1.\n",
    "    \n",
    ":::"
   ]
  },
  {
   "cell_type": "markdown",
   "id": "e19a31d8-7fcf-46c0-a068-fe6efbc3c716",
   "metadata": {},
   "source": [
    "::: {.callout-note}\n",
    "## What pattens do you see in the residuals, when plotted versus the model variable `swim_lessons`?\n",
    "\n",
    "**A:** (Short Answer)\n",
    "\n",
    "Inspection of `residuals` versus `swim_lessons` reveals one pattern:\n",
    "\n",
    "- As `swim_lessons` increases, the variability of the `residuals` tends to increase.\n",
    ":::"
   ]
  },
  {
   "cell_type": "markdown",
   "id": "aeb1ec1a-838e-44e5-8728-8a90a51192e6",
   "metadata": {},
   "source": [
    "Remember that, in our initial model, we observed a **systematic trend** in the `residuals`.\n",
    "\n",
    "- **Original Model:** As `swim_lessons` increase, the average `residuals` value decreases.\n",
    "\n",
    "In our reifned model, visual inspection reveals *no* systematic trend in the `residuals`\n",
    "\n",
    "- **Refined Model:** As `swim_lessons` increase, the average `residuals` value remains approximately constant. \n",
    "\n",
    "This is a nice improvement compared to our original model. \n",
    "\n",
    "**Including the additional variable `distance_to_ocean` has reduced a systematic trend in the residuals.**\n",
    "\n",
    "Let's also plot the `residuals` of the new model versus the geographic location."
   ]
  },
  {
   "cell_type": "markdown",
   "id": "db0247b9-bd15-417c-b980-cb88e220da39",
   "metadata": {},
   "source": [
    "```{pyodide-python}\n",
    "plot_spatial_coordinates(x, y, residuals)\n",
    "```"
   ]
  },
  {
   "cell_type": "markdown",
   "id": "dc74672c-3625-47e9-9db7-f26273d7bb1a",
   "metadata": {},
   "source": [
    "::: {.callout-note}\n",
    "\n",
    "## Do you observe any patterns in the residuals that depend on location?\n",
    "\n",
    "**A:** (Multiple Choice)\n",
    "\n",
    "- (Incorrect) Yes, the residuals appear to vary with geographic location. Nearer to the ocean, the residuals tend to be more positive (darker blue colors).\n",
    "- (Correct) No, the residuals do **not** appear to vary with geographic location.\n",
    "    \n",
    ":::"
   ]
  },
  {
   "cell_type": "markdown",
   "id": "305a3876-e666-4e2a-9636-103f803e617a",
   "metadata": {},
   "source": [
    "## Step 4. Summarize conclusions."
   ]
  },
  {
   "cell_type": "markdown",
   "id": "402d5e89-ce63-47f1-aad4-819dea7681a3",
   "metadata": {},
   "source": [
    "Having chosen the model (Step 1), inferred model parameters (Step 2), and checked our model (Step 3), our last step is to summarize the conclusions of our statistical inference.\n",
    "\n",
    "To do so, let's consider explict numerical conclusions from our model:\n",
    "\n",
    "- How does the number of drownings change if we increase the number of swim lessons by 1000 or distance from the ocean by 100 kilometers?"
   ]
  },
  {
   "cell_type": "markdown",
   "id": "9081e962-b5c5-4026-80b1-f82d8e80ab25",
   "metadata": {},
   "source": [
    "::: {.callout-note}\n",
    "\n",
    "## We found $m_1=-0.0003$ with standard error $0.0003$. How does the number of `drownings` change when the number of `swim_lessons` increases by 1000.\n",
    "\n",
    "**A:** \n",
    "\n",
    "Our model of the data is a plane:\n",
    "\n",
    "`drownings` = $m_1$ `swim_lessons` + $m_2$ `distance_from_ocean` + b\n",
    "\n",
    "We inferred the model parameter `m_1` from the data and found:\n",
    "\n",
    "`drownings` = -0.0003 `swim_lessons` + ...\n",
    "\n",
    "If the number of swim lessons increases by 1000, then the number of drownings changes by:\n",
    "\n",
    "`drownings = -0.0003 * 1000 = -0.3`\n",
    "\n",
    "So, by this calculation, increasing the number of swim lessons by 1000 reduces the number of drownings by -0.3.\n",
    "\n",
    "However, **we have no confidence in this result!**\n",
    "\n",
    "We found a standard error of 0.0003 for the estimate of $m_1$. This standard error is as large as the estimate $m_1$ itself.\n",
    "\n",
    "We therefore would not be surprised if repeated experiments found $m_1$ values between approximatley:\n",
    "\n",
    "$m_1 \\pm 2 * \\mathrm{standard \\, error} = -0.0003 \\pm 2*0.0003 = [-0.0009, 0.0003]$\n",
    "\n",
    "So, due to the large standard error, we cannot confidently conclude whether $m_1$ is positive or negative.\n",
    "\n",
    "In other words, **we cannot conclude whether increasing swim lessons increases or decreases the number of drownings**.\n",
    "\n",
    ":::"
   ]
  },
  {
   "cell_type": "markdown",
   "id": "08d65b94-5add-4054-acee-62b91e51937e",
   "metadata": {},
   "source": [
    "::: {.callout-note}\n",
    "\n",
    "## We found $m_2=-0.06$ with standard error $0.0087$. How does the number of `drownings` change when the `distance_to_ocean` increases by 100 kilometers.\n",
    "\n",
    "**A:** \n",
    "\n",
    "Our model of the data is a plane:\n",
    "\n",
    "`drownings` = $m_1$ `swim_lessons` + $m_2$ `distance_from_ocean` + b\n",
    "\n",
    "We inferred the model parameter `m_2` from the data and found:\n",
    "\n",
    "`drownings` = ... -0.06 `distance_from_ocean` + ...\n",
    "\n",
    "If the distance from the ocean increases by 100 kilometers, then the number of drownings changes by:\n",
    "\n",
    "`drownings = -0.06 * 100 = -6`\n",
    "\n",
    "So, by this calculation, increasing the distance to the ocean by 100 kilometers reduces the number of drownings by -7.\n",
    "\n",
    "In this case, **we are confident in this result!**\n",
    "\n",
    "We found a standard error of 0.0087 for the estimate of $m_2$. This standard error is much smaller than the estimate of $m_2$ itself.\n",
    "\n",
    "We therefore would not be surprised if repeated experiments found $m_2$ values between approximatley:\n",
    "\n",
    "$m_2 \\pm 2 * \\mathrm{standard \\, error} = -0.06 \\pm 2*0.0087 = [-0.077, -0.043]$\n",
    "\n",
    "So, due to the small standard error, we can confidently conclude that $m_2$ is negative.\n",
    "\n",
    "In other words, **we conclude that increasing distance from the ocean decreases the number of drownings**.\n",
    "\n",
    ":::"
   ]
  },
  {
   "cell_type": "markdown",
   "id": "5e0f8dc5-91ec-45d1-b578-4fbb9f3029c7",
   "metadata": {},
   "source": [
    "## Summary\n",
    "\n",
    "Our residual analysis suggests an important result: **Our refined model (a plane) improves the model fit**.\n",
    "\n",
    "We've made progress improving our model!\n",
    "\n",
    "Our initial model produced a significant - but nonsensical - result:\n",
    "\n",
    "- **Initial model conclusion:** As swim lessons increase, so do the number of drownings.\n",
    "\n",
    "However, performing our model checks, residual analysis revealed a poor model fit.\n",
    "\n",
    "The poor model fit motivated a cycle through our **statistical inference loop**.\n",
    "\n",
    "We refined the model by adding another predictor - the distance to the ocean.\n",
    "\n",
    "The refined model changed our results dramatically:\n",
    "\n",
    "1. We improved our model fit (by reducing a systematic trend in the residuals).\n",
    "\n",
    "- However, we still observe that the variability of the residuals tends to increase with the number of swim lessons.\n",
    "\n",
    "2. We found a (weak) relationship between increasing swim lessons and decreasing drownings.\n",
    "\n",
    "- While this result makes intuitive sense, our evidence for this relationship is not convincing (the variability in the estimate is large).\n",
    "\n",
    "2. We found a (strong) relationship between increasing distance from the ocean and decreasing drownings.\n",
    "\n",
    "- This result also makes intuitive sense and our evidence for this relationship is strong (the variability in the estimate is small).\n",
    "\n",
    "We show in the next Minis that continued model refinement in our **statistical inference loop** can further strengthen our results.\n",
    "- If you're interested, check out the other Minis associated with this Unit.\n",
    "\n",
    "---\n",
    "\n",
    "**To conclude**, we applied our **statistical inference loop** to make inferences from noisy data.\n",
    "\n",
    "We started by choosing a model and inferring the model parameters (i.e., the slopes).\n",
    "\n",
    "But that is not enough!\n",
    "\n",
    "We must also check our model, in our case by plotting the residuals. "
   ]
  },
  {
   "cell_type": "code",
   "execution_count": null,
   "id": "2147458e-ac61-4fb4-aebe-d7c6219581d8",
   "metadata": {},
   "outputs": [],
   "source": []
  }
 ],
 "metadata": {
  "kernelspec": {
   "display_name": "Python 3 (ipykernel)",
   "language": "python",
   "name": "python3"
  },
  "language_info": {
   "codemirror_mode": {
    "name": "ipython",
    "version": 3
   },
   "file_extension": ".py",
   "mimetype": "text/x-python",
   "name": "python",
   "nbconvert_exporter": "python",
   "pygments_lexer": "ipython3",
   "version": "3.8.18"
  }
 },
 "nbformat": 4,
 "nbformat_minor": 5
}
